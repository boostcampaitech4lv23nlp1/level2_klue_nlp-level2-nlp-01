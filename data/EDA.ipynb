{
 "cells": [
  {
   "cell_type": "markdown",
   "metadata": {},
   "source": [
    "<br><br><br>\n",
    "\n",
    "### **문장 내 관계 추출**\n",
    "\n",
    "문장의 단어(Entity)에 대한 속성과 관계를 예측하는 것이 목표입니다.\n",
    "\n",
    "- 목표\n",
    "\n",
    "    - 문장, 단어에 대한 정보를 통해, 문장 속에서 단어 사이의 관계를 추출하는 것이다.\n"
   ]
  },
  {
   "cell_type": "code",
   "execution_count": 1,
   "metadata": {},
   "outputs": [],
   "source": [
    "import pandas as pd\n",
    "from typing import *\n",
    "import matplotlib.pyplot as plt"
   ]
  },
  {
   "cell_type": "code",
   "execution_count": 2,
   "metadata": {},
   "outputs": [],
   "source": [
    "plt.style.use('ggplot')"
   ]
  },
  {
   "cell_type": "code",
   "execution_count": 3,
   "metadata": {},
   "outputs": [],
   "source": [
    "df = pd.read_csv('dataset/train/train.csv')"
   ]
  },
  {
   "cell_type": "code",
   "execution_count": 4,
   "metadata": {},
   "outputs": [
    {
     "data": {
      "text/html": [
       "<div>\n",
       "<style scoped>\n",
       "    .dataframe tbody tr th:only-of-type {\n",
       "        vertical-align: middle;\n",
       "    }\n",
       "\n",
       "    .dataframe tbody tr th {\n",
       "        vertical-align: top;\n",
       "    }\n",
       "\n",
       "    .dataframe thead th {\n",
       "        text-align: right;\n",
       "    }\n",
       "</style>\n",
       "<table border=\"1\" class=\"dataframe\">\n",
       "  <thead>\n",
       "    <tr style=\"text-align: right;\">\n",
       "      <th></th>\n",
       "      <th>id</th>\n",
       "      <th>sentence</th>\n",
       "      <th>subject_entity</th>\n",
       "      <th>object_entity</th>\n",
       "      <th>label</th>\n",
       "      <th>source</th>\n",
       "    </tr>\n",
       "  </thead>\n",
       "  <tbody>\n",
       "    <tr>\n",
       "      <th>0</th>\n",
       "      <td>0</td>\n",
       "      <td>〈Something〉는 조지 해리슨이 쓰고 비틀즈가 1969년 앨범 《Abbey R...</td>\n",
       "      <td>{'word': '비틀즈', 'start_idx': 24, 'end_idx': 26...</td>\n",
       "      <td>{'word': '조지 해리슨', 'start_idx': 13, 'end_idx':...</td>\n",
       "      <td>no_relation</td>\n",
       "      <td>wikipedia</td>\n",
       "    </tr>\n",
       "    <tr>\n",
       "      <th>1</th>\n",
       "      <td>1</td>\n",
       "      <td>호남이 기반인 바른미래당·대안신당·민주평화당이 우여곡절 끝에 합당해 민생당(가칭)으...</td>\n",
       "      <td>{'word': '민주평화당', 'start_idx': 19, 'end_idx': ...</td>\n",
       "      <td>{'word': '대안신당', 'start_idx': 14, 'end_idx': 1...</td>\n",
       "      <td>no_relation</td>\n",
       "      <td>wikitree</td>\n",
       "    </tr>\n",
       "    <tr>\n",
       "      <th>2</th>\n",
       "      <td>2</td>\n",
       "      <td>K리그2에서 성적 1위를 달리고 있는 광주FC는 지난 26일 한국프로축구연맹으로부터...</td>\n",
       "      <td>{'word': '광주FC', 'start_idx': 21, 'end_idx': 2...</td>\n",
       "      <td>{'word': '한국프로축구연맹', 'start_idx': 34, 'end_idx...</td>\n",
       "      <td>org:member_of</td>\n",
       "      <td>wikitree</td>\n",
       "    </tr>\n",
       "    <tr>\n",
       "      <th>3</th>\n",
       "      <td>3</td>\n",
       "      <td>균일가 생활용품점 (주)아성다이소(대표 박정부)는 코로나19 바이러스로 어려움을 겪...</td>\n",
       "      <td>{'word': '아성다이소', 'start_idx': 13, 'end_idx': ...</td>\n",
       "      <td>{'word': '박정부', 'start_idx': 22, 'end_idx': 24...</td>\n",
       "      <td>org:top_members/employees</td>\n",
       "      <td>wikitree</td>\n",
       "    </tr>\n",
       "    <tr>\n",
       "      <th>4</th>\n",
       "      <td>4</td>\n",
       "      <td>1967년 프로 야구 드래프트 1순위로 요미우리 자이언츠에게 입단하면서 등번호는 8...</td>\n",
       "      <td>{'word': '요미우리 자이언츠', 'start_idx': 22, 'end_id...</td>\n",
       "      <td>{'word': '1967', 'start_idx': 0, 'end_idx': 3,...</td>\n",
       "      <td>no_relation</td>\n",
       "      <td>wikipedia</td>\n",
       "    </tr>\n",
       "  </tbody>\n",
       "</table>\n",
       "</div>"
      ],
      "text/plain": [
       "   id                                           sentence  \\\n",
       "0   0  〈Something〉는 조지 해리슨이 쓰고 비틀즈가 1969년 앨범 《Abbey R...   \n",
       "1   1  호남이 기반인 바른미래당·대안신당·민주평화당이 우여곡절 끝에 합당해 민생당(가칭)으...   \n",
       "2   2  K리그2에서 성적 1위를 달리고 있는 광주FC는 지난 26일 한국프로축구연맹으로부터...   \n",
       "3   3  균일가 생활용품점 (주)아성다이소(대표 박정부)는 코로나19 바이러스로 어려움을 겪...   \n",
       "4   4  1967년 프로 야구 드래프트 1순위로 요미우리 자이언츠에게 입단하면서 등번호는 8...   \n",
       "\n",
       "                                      subject_entity  \\\n",
       "0  {'word': '비틀즈', 'start_idx': 24, 'end_idx': 26...   \n",
       "1  {'word': '민주평화당', 'start_idx': 19, 'end_idx': ...   \n",
       "2  {'word': '광주FC', 'start_idx': 21, 'end_idx': 2...   \n",
       "3  {'word': '아성다이소', 'start_idx': 13, 'end_idx': ...   \n",
       "4  {'word': '요미우리 자이언츠', 'start_idx': 22, 'end_id...   \n",
       "\n",
       "                                       object_entity  \\\n",
       "0  {'word': '조지 해리슨', 'start_idx': 13, 'end_idx':...   \n",
       "1  {'word': '대안신당', 'start_idx': 14, 'end_idx': 1...   \n",
       "2  {'word': '한국프로축구연맹', 'start_idx': 34, 'end_idx...   \n",
       "3  {'word': '박정부', 'start_idx': 22, 'end_idx': 24...   \n",
       "4  {'word': '1967', 'start_idx': 0, 'end_idx': 3,...   \n",
       "\n",
       "                       label     source  \n",
       "0                no_relation  wikipedia  \n",
       "1                no_relation   wikitree  \n",
       "2              org:member_of   wikitree  \n",
       "3  org:top_members/employees   wikitree  \n",
       "4                no_relation  wikipedia  "
      ]
     },
     "execution_count": 4,
     "metadata": {},
     "output_type": "execute_result"
    }
   ],
   "source": [
    "df.head(5)"
   ]
  },
  {
   "cell_type": "code",
   "execution_count": 5,
   "metadata": {},
   "outputs": [
    {
     "name": "stdout",
     "output_type": "stream",
     "text": [
      "<class 'pandas.core.frame.DataFrame'>\n",
      "RangeIndex: 32470 entries, 0 to 32469\n",
      "Data columns (total 6 columns):\n",
      " #   Column          Non-Null Count  Dtype \n",
      "---  ------          --------------  ----- \n",
      " 0   id              32470 non-null  int64 \n",
      " 1   sentence        32470 non-null  object\n",
      " 2   subject_entity  32470 non-null  object\n",
      " 3   object_entity   32470 non-null  object\n",
      " 4   label           32470 non-null  object\n",
      " 5   source          32470 non-null  object\n",
      "dtypes: int64(1), object(5)\n",
      "memory usage: 1.5+ MB\n"
     ]
    }
   ],
   "source": [
    "df.info()"
   ]
  },
  {
   "cell_type": "markdown",
   "metadata": {},
   "source": [
    "<br><br><br>"
   ]
  },
  {
   "cell_type": "code",
   "execution_count": 6,
   "metadata": {},
   "outputs": [
    {
     "data": {
      "text/plain": [
       "[\"{'word': '비틀즈', 'start_idx': 24, 'end_idx': 26, 'type': 'ORG'}\",\n",
       " \"{'word': '민주평화당', 'start_idx': 19, 'end_idx': 23, 'type': 'ORG'}\",\n",
       " \"{'word': '광주FC', 'start_idx': 21, 'end_idx': 24, 'type': 'ORG'}\",\n",
       " \"{'word': '아성다이소', 'start_idx': 13, 'end_idx': 17, 'type': 'ORG'}\",\n",
       " \"{'word': '요미우리 자이언츠', 'start_idx': 22, 'end_idx': 30, 'type': 'ORG'}\"]"
      ]
     },
     "execution_count": 6,
     "metadata": {},
     "output_type": "execute_result"
    }
   ],
   "source": [
    "subject_entity = df['subject_entity'][:5].to_list()\n",
    "subject_entity"
   ]
  },
  {
   "cell_type": "code",
   "execution_count": 7,
   "metadata": {},
   "outputs": [
    {
     "data": {
      "text/plain": [
       "[\"{'word': '조지 해리슨', 'start_idx': 13, 'end_idx': 18, 'type': 'PER'}\",\n",
       " \"{'word': '대안신당', 'start_idx': 14, 'end_idx': 17, 'type': 'ORG'}\",\n",
       " \"{'word': '한국프로축구연맹', 'start_idx': 34, 'end_idx': 41, 'type': 'ORG'}\",\n",
       " \"{'word': '박정부', 'start_idx': 22, 'end_idx': 24, 'type': 'PER'}\",\n",
       " \"{'word': '1967', 'start_idx': 0, 'end_idx': 3, 'type': 'DAT'}\"]"
      ]
     },
     "execution_count": 7,
     "metadata": {},
     "output_type": "execute_result"
    }
   ],
   "source": [
    "object_entity = df['object_entity'][:5].to_list()\n",
    "object_entity"
   ]
  },
  {
   "cell_type": "code",
   "execution_count": 8,
   "metadata": {},
   "outputs": [
    {
     "data": {
      "text/plain": [
       "'아성다이소'"
      ]
     },
     "execution_count": 8,
     "metadata": {},
     "output_type": "execute_result"
    }
   ],
   "source": [
    "subject_entity[3][1:-1].split(',')[0].split(':')[1].strip()[1:-1]"
   ]
  },
  {
   "cell_type": "code",
   "execution_count": 9,
   "metadata": {},
   "outputs": [
    {
     "data": {
      "text/plain": [
       "'ORG'"
      ]
     },
     "execution_count": 9,
     "metadata": {},
     "output_type": "execute_result"
    }
   ],
   "source": [
    "subject_entity[3][1:-1].split(',')[-1].split(':')[1].strip()[1:-1]"
   ]
  },
  {
   "cell_type": "markdown",
   "metadata": {},
   "source": [
    "<br><br><br>"
   ]
  },
  {
   "cell_type": "code",
   "execution_count": 10,
   "metadata": {},
   "outputs": [],
   "source": [
    "split_func = lambda string, x: string[1:-1].split(',')[x].split(':')[1].strip()[1:-1]"
   ]
  },
  {
   "cell_type": "code",
   "execution_count": 11,
   "metadata": {},
   "outputs": [
    {
     "data": {
      "text/plain": [
       "('아성다이소', 'ORG')"
      ]
     },
     "execution_count": 11,
     "metadata": {},
     "output_type": "execute_result"
    }
   ],
   "source": [
    "split_func(subject_entity[3], 0), split_func(subject_entity[3], -1)"
   ]
  },
  {
   "cell_type": "code",
   "execution_count": 12,
   "metadata": {},
   "outputs": [
    {
     "data": {
      "text/plain": [
       "('박정부', 'PER')"
      ]
     },
     "execution_count": 12,
     "metadata": {},
     "output_type": "execute_result"
    }
   ],
   "source": [
    "split_func(object_entity[3], 0), split_func(object_entity[3], -1)"
   ]
  },
  {
   "cell_type": "code",
   "execution_count": 13,
   "metadata": {},
   "outputs": [
    {
     "data": {
      "text/plain": [
       "(32470, 32470)"
      ]
     },
     "execution_count": 13,
     "metadata": {},
     "output_type": "execute_result"
    }
   ],
   "source": [
    "len(df['subject_entity']), len(df['object_entity'])"
   ]
  },
  {
   "cell_type": "code",
   "execution_count": 14,
   "metadata": {},
   "outputs": [],
   "source": [
    "subject_entity, object_entity = [], []\n",
    "subject_type, object_type = [], []\n",
    "\n",
    "for subject, object in zip(df['subject_entity'], df['object_entity']):\n",
    "    subject_entity.append(split_func(subject, 0))\n",
    "    subject_type.append(split_func(subject, -1))\n",
    "    \n",
    "    object_entity.append(split_func(object, 0))\n",
    "    object_type.append(split_func(object, -1))\n",
    "\n",
    "df_split = pd.DataFrame({\n",
    "    'id':df['id'], \n",
    "    'sentence':df['sentence'],\n",
    "    'subject_entity':subject_entity,\n",
    "    'subject_type': subject_type,\n",
    "    'object_entity':object_entity,\n",
    "    'object_type': object_type,\n",
    "    'label':df['label'],\n",
    "})"
   ]
  },
  {
   "cell_type": "markdown",
   "metadata": {},
   "source": [
    "<br><br><br>\n",
    "\n",
    "#### **결측치 제거**"
   ]
  },
  {
   "cell_type": "code",
   "execution_count": 15,
   "metadata": {},
   "outputs": [],
   "source": [
    "import numpy as np\n",
    "df_split.replace('', np.nan, inplace=True)"
   ]
  },
  {
   "cell_type": "code",
   "execution_count": 16,
   "metadata": {},
   "outputs": [
    {
     "data": {
      "text/plain": [
       "id                 0\n",
       "sentence           0\n",
       "subject_entity     0\n",
       "subject_type       0\n",
       "object_entity     21\n",
       "object_type        0\n",
       "label              0\n",
       "dtype: int64"
      ]
     },
     "execution_count": 16,
     "metadata": {},
     "output_type": "execute_result"
    }
   ],
   "source": [
    "df_split.isna().sum()"
   ]
  },
  {
   "cell_type": "code",
   "execution_count": 17,
   "metadata": {},
   "outputs": [],
   "source": [
    "df_split.dropna(inplace=True)"
   ]
  },
  {
   "cell_type": "code",
   "execution_count": 18,
   "metadata": {},
   "outputs": [
    {
     "data": {
      "text/plain": [
       "id                0\n",
       "sentence          0\n",
       "subject_entity    0\n",
       "subject_type      0\n",
       "object_entity     0\n",
       "object_type       0\n",
       "label             0\n",
       "dtype: int64"
      ]
     },
     "execution_count": 18,
     "metadata": {},
     "output_type": "execute_result"
    }
   ],
   "source": [
    "df_split.isna().sum()"
   ]
  },
  {
   "cell_type": "code",
   "execution_count": 19,
   "metadata": {},
   "outputs": [
    {
     "data": {
      "text/plain": [
       "array(['ORG', 'PER'], dtype=object)"
      ]
     },
     "execution_count": 19,
     "metadata": {},
     "output_type": "execute_result"
    }
   ],
   "source": [
    "df_split['subject_type'].unique()"
   ]
  },
  {
   "cell_type": "code",
   "execution_count": 20,
   "metadata": {},
   "outputs": [
    {
     "data": {
      "text/plain": [
       "array(['PER', 'ORG', 'DAT', 'LOC', 'POH', 'NOH'], dtype=object)"
      ]
     },
     "execution_count": 20,
     "metadata": {},
     "output_type": "execute_result"
    }
   ],
   "source": [
    "df_split['object_type'].unique()"
   ]
  },
  {
   "cell_type": "markdown",
   "metadata": {},
   "source": [
    "<br><br><br>\n",
    "\n",
    "#### **기타 언어 존재 여부 확인**"
   ]
  },
  {
   "cell_type": "code",
   "execution_count": 85,
   "metadata": {},
   "outputs": [],
   "source": [
    "filtering_columns = ['sentence', 'subject_entity', 'object_entity']"
   ]
  },
  {
   "cell_type": "markdown",
   "metadata": {},
   "source": [
    "<br><br>\n",
    "\n",
    "(1) 중국어"
   ]
  },
  {
   "cell_type": "code",
   "execution_count": 99,
   "metadata": {},
   "outputs": [],
   "source": [
    "def remove_language(start: int, end: int, sentence: str):\n",
    "    global count\n",
    "    \n",
    "    a = int(start, 16) \n",
    "    b = int(end, 16)\n",
    "    return_sentence = ''\n",
    "    for i, w in enumerate(sentence):\n",
    "        if a <= ord(w) and ord(w) <= b:\n",
    "            count += 1\n",
    "            continue\n",
    "        return_sentence += w\n",
    "    return return_sentence"
   ]
  },
  {
   "cell_type": "code",
   "execution_count": 113,
   "metadata": {},
   "outputs": [
    {
     "data": {
      "text/html": [
       "<div>\n",
       "<style scoped>\n",
       "    .dataframe tbody tr th:only-of-type {\n",
       "        vertical-align: middle;\n",
       "    }\n",
       "\n",
       "    .dataframe tbody tr th {\n",
       "        vertical-align: top;\n",
       "    }\n",
       "\n",
       "    .dataframe thead th {\n",
       "        text-align: right;\n",
       "    }\n",
       "</style>\n",
       "<table border=\"1\" class=\"dataframe\">\n",
       "  <thead>\n",
       "    <tr style=\"text-align: right;\">\n",
       "      <th></th>\n",
       "      <th>sentence</th>\n",
       "      <th>subject_entity</th>\n",
       "      <th>object_entity</th>\n",
       "    </tr>\n",
       "  </thead>\n",
       "  <tbody>\n",
       "    <tr>\n",
       "      <th>0</th>\n",
       "      <td>〈Something〉는 조지 해리슨이 쓰고 비틀즈가 1969년 앨범 《Abbey R...</td>\n",
       "      <td>비틀즈</td>\n",
       "      <td>조지 해리슨</td>\n",
       "    </tr>\n",
       "    <tr>\n",
       "      <th>1</th>\n",
       "      <td>호남이 기반인 바른미래당·대안신당·민주평화당이 우여곡절 끝에 합당해 민생당(가칭)으...</td>\n",
       "      <td>민주평화당</td>\n",
       "      <td>대안신당</td>\n",
       "    </tr>\n",
       "    <tr>\n",
       "      <th>2</th>\n",
       "      <td>K리그2에서 성적 1위를 달리고 있는 광주FC는 지난 26일 한국프로축구연맹으로부터...</td>\n",
       "      <td>광주FC</td>\n",
       "      <td>한국프로축구연맹</td>\n",
       "    </tr>\n",
       "    <tr>\n",
       "      <th>3</th>\n",
       "      <td>균일가 생활용품점 (주)아성다이소(대표 박정부)는 코로나19 바이러스로 어려움을 겪...</td>\n",
       "      <td>아성다이소</td>\n",
       "      <td>박정부</td>\n",
       "    </tr>\n",
       "    <tr>\n",
       "      <th>4</th>\n",
       "      <td>1967년 프로 야구 드래프트 1순위로 요미우리 자이언츠에게 입단하면서 등번호는 8...</td>\n",
       "      <td>요미우리 자이언츠</td>\n",
       "      <td>1967</td>\n",
       "    </tr>\n",
       "  </tbody>\n",
       "</table>\n",
       "</div>"
      ],
      "text/plain": [
       "                                            sentence subject_entity  \\\n",
       "0  〈Something〉는 조지 해리슨이 쓰고 비틀즈가 1969년 앨범 《Abbey R...            비틀즈   \n",
       "1  호남이 기반인 바른미래당·대안신당·민주평화당이 우여곡절 끝에 합당해 민생당(가칭)으...          민주평화당   \n",
       "2  K리그2에서 성적 1위를 달리고 있는 광주FC는 지난 26일 한국프로축구연맹으로부터...           광주FC   \n",
       "3  균일가 생활용품점 (주)아성다이소(대표 박정부)는 코로나19 바이러스로 어려움을 겪...          아성다이소   \n",
       "4  1967년 프로 야구 드래프트 1순위로 요미우리 자이언츠에게 입단하면서 등번호는 8...      요미우리 자이언츠   \n",
       "\n",
       "  object_entity  \n",
       "0        조지 해리슨  \n",
       "1          대안신당  \n",
       "2      한국프로축구연맹  \n",
       "3           박정부  \n",
       "4          1967  "
      ]
     },
     "execution_count": 113,
     "metadata": {},
     "output_type": "execute_result"
    }
   ],
   "source": [
    "count = 0\n",
    "df_split[filtering_columns].applymap(lambda x: remove_language('4e00', '9fff', x)).head(5)"
   ]
  },
  {
   "cell_type": "code",
   "execution_count": 114,
   "metadata": {},
   "outputs": [
    {
     "name": "stdout",
     "output_type": "stream",
     "text": [
      "중국어 개수 :  9639\n"
     ]
    }
   ],
   "source": [
    "print(\"중국어 개수 : \", count)"
   ]
  },
  {
   "cell_type": "markdown",
   "metadata": {},
   "source": [
    "<br><br>\n",
    "\n",
    "(2) 러시아어"
   ]
  },
  {
   "cell_type": "code",
   "execution_count": 110,
   "metadata": {},
   "outputs": [
    {
     "data": {
      "text/html": [
       "<div>\n",
       "<style scoped>\n",
       "    .dataframe tbody tr th:only-of-type {\n",
       "        vertical-align: middle;\n",
       "    }\n",
       "\n",
       "    .dataframe tbody tr th {\n",
       "        vertical-align: top;\n",
       "    }\n",
       "\n",
       "    .dataframe thead th {\n",
       "        text-align: right;\n",
       "    }\n",
       "</style>\n",
       "<table border=\"1\" class=\"dataframe\">\n",
       "  <thead>\n",
       "    <tr style=\"text-align: right;\">\n",
       "      <th></th>\n",
       "      <th>sentence</th>\n",
       "      <th>subject_entity</th>\n",
       "      <th>object_entity</th>\n",
       "    </tr>\n",
       "  </thead>\n",
       "  <tbody>\n",
       "    <tr>\n",
       "      <th>0</th>\n",
       "      <td>〈Something〉는 조지 해리슨이 쓰고 비틀즈가 1969년 앨범 《Abbey R...</td>\n",
       "      <td>비틀즈</td>\n",
       "      <td>조지 해리슨</td>\n",
       "    </tr>\n",
       "    <tr>\n",
       "      <th>1</th>\n",
       "      <td>호남이 기반인 바른미래당·대안신당·민주평화당이 우여곡절 끝에 합당해 민생당(가칭)으...</td>\n",
       "      <td>민주평화당</td>\n",
       "      <td>대안신당</td>\n",
       "    </tr>\n",
       "    <tr>\n",
       "      <th>2</th>\n",
       "      <td>K리그2에서 성적 1위를 달리고 있는 광주FC는 지난 26일 한국프로축구연맹으로부터...</td>\n",
       "      <td>광주FC</td>\n",
       "      <td>한국프로축구연맹</td>\n",
       "    </tr>\n",
       "    <tr>\n",
       "      <th>3</th>\n",
       "      <td>균일가 생활용품점 (주)아성다이소(대표 박정부)는 코로나19 바이러스로 어려움을 겪...</td>\n",
       "      <td>아성다이소</td>\n",
       "      <td>박정부</td>\n",
       "    </tr>\n",
       "    <tr>\n",
       "      <th>4</th>\n",
       "      <td>1967년 프로 야구 드래프트 1순위로 요미우리 자이언츠에게 입단하면서 등번호는 8...</td>\n",
       "      <td>요미우리 자이언츠</td>\n",
       "      <td>1967</td>\n",
       "    </tr>\n",
       "  </tbody>\n",
       "</table>\n",
       "</div>"
      ],
      "text/plain": [
       "                                            sentence subject_entity  \\\n",
       "0  〈Something〉는 조지 해리슨이 쓰고 비틀즈가 1969년 앨범 《Abbey R...            비틀즈   \n",
       "1  호남이 기반인 바른미래당·대안신당·민주평화당이 우여곡절 끝에 합당해 민생당(가칭)으...          민주평화당   \n",
       "2  K리그2에서 성적 1위를 달리고 있는 광주FC는 지난 26일 한국프로축구연맹으로부터...           광주FC   \n",
       "3  균일가 생활용품점 (주)아성다이소(대표 박정부)는 코로나19 바이러스로 어려움을 겪...          아성다이소   \n",
       "4  1967년 프로 야구 드래프트 1순위로 요미우리 자이언츠에게 입단하면서 등번호는 8...      요미우리 자이언츠   \n",
       "\n",
       "  object_entity  \n",
       "0        조지 해리슨  \n",
       "1          대안신당  \n",
       "2      한국프로축구연맹  \n",
       "3           박정부  \n",
       "4          1967  "
      ]
     },
     "execution_count": 110,
     "metadata": {},
     "output_type": "execute_result"
    }
   ],
   "source": [
    "count = 0\n",
    "df_split[filtering_columns].applymap(lambda x: remove_language('0400', '04ff', x)).head(5)"
   ]
  },
  {
   "cell_type": "code",
   "execution_count": 104,
   "metadata": {},
   "outputs": [
    {
     "name": "stdout",
     "output_type": "stream",
     "text": [
      "러시아어 개수 :  397\n"
     ]
    }
   ],
   "source": [
    "print(\"러시아어 개수 : \", count)"
   ]
  },
  {
   "cell_type": "markdown",
   "metadata": {},
   "source": [
    "<br><br>\n",
    "\n",
    "(3) 아랍어"
   ]
  },
  {
   "cell_type": "code",
   "execution_count": 108,
   "metadata": {},
   "outputs": [
    {
     "data": {
      "text/html": [
       "<div>\n",
       "<style scoped>\n",
       "    .dataframe tbody tr th:only-of-type {\n",
       "        vertical-align: middle;\n",
       "    }\n",
       "\n",
       "    .dataframe tbody tr th {\n",
       "        vertical-align: top;\n",
       "    }\n",
       "\n",
       "    .dataframe thead th {\n",
       "        text-align: right;\n",
       "    }\n",
       "</style>\n",
       "<table border=\"1\" class=\"dataframe\">\n",
       "  <thead>\n",
       "    <tr style=\"text-align: right;\">\n",
       "      <th></th>\n",
       "      <th>sentence</th>\n",
       "      <th>subject_entity</th>\n",
       "      <th>object_entity</th>\n",
       "    </tr>\n",
       "  </thead>\n",
       "  <tbody>\n",
       "    <tr>\n",
       "      <th>0</th>\n",
       "      <td>〈Something〉는 조지 해리슨이 쓰고 비틀즈가 1969년 앨범 《Abbey R...</td>\n",
       "      <td>비틀즈</td>\n",
       "      <td>조지 해리슨</td>\n",
       "    </tr>\n",
       "    <tr>\n",
       "      <th>1</th>\n",
       "      <td>호남이 기반인 바른미래당·대안신당·민주평화당이 우여곡절 끝에 합당해 민생당(가칭)으...</td>\n",
       "      <td>민주평화당</td>\n",
       "      <td>대안신당</td>\n",
       "    </tr>\n",
       "    <tr>\n",
       "      <th>2</th>\n",
       "      <td>K리그2에서 성적 1위를 달리고 있는 광주FC는 지난 26일 한국프로축구연맹으로부터...</td>\n",
       "      <td>광주FC</td>\n",
       "      <td>한국프로축구연맹</td>\n",
       "    </tr>\n",
       "    <tr>\n",
       "      <th>3</th>\n",
       "      <td>균일가 생활용품점 (주)아성다이소(대표 박정부)는 코로나19 바이러스로 어려움을 겪...</td>\n",
       "      <td>아성다이소</td>\n",
       "      <td>박정부</td>\n",
       "    </tr>\n",
       "    <tr>\n",
       "      <th>4</th>\n",
       "      <td>1967년 프로 야구 드래프트 1순위로 요미우리 자이언츠에게 입단하면서 등번호는 8...</td>\n",
       "      <td>요미우리 자이언츠</td>\n",
       "      <td>1967</td>\n",
       "    </tr>\n",
       "  </tbody>\n",
       "</table>\n",
       "</div>"
      ],
      "text/plain": [
       "                                            sentence subject_entity  \\\n",
       "0  〈Something〉는 조지 해리슨이 쓰고 비틀즈가 1969년 앨범 《Abbey R...            비틀즈   \n",
       "1  호남이 기반인 바른미래당·대안신당·민주평화당이 우여곡절 끝에 합당해 민생당(가칭)으...          민주평화당   \n",
       "2  K리그2에서 성적 1위를 달리고 있는 광주FC는 지난 26일 한국프로축구연맹으로부터...           광주FC   \n",
       "3  균일가 생활용품점 (주)아성다이소(대표 박정부)는 코로나19 바이러스로 어려움을 겪...          아성다이소   \n",
       "4  1967년 프로 야구 드래프트 1순위로 요미우리 자이언츠에게 입단하면서 등번호는 8...      요미우리 자이언츠   \n",
       "\n",
       "  object_entity  \n",
       "0        조지 해리슨  \n",
       "1          대안신당  \n",
       "2      한국프로축구연맹  \n",
       "3           박정부  \n",
       "4          1967  "
      ]
     },
     "execution_count": 108,
     "metadata": {},
     "output_type": "execute_result"
    }
   ],
   "source": [
    "count = 0\n",
    "df_split[filtering_columns].applymap(lambda x: remove_language('0600', '06ff', x)).head(5)"
   ]
  },
  {
   "cell_type": "code",
   "execution_count": 109,
   "metadata": {},
   "outputs": [
    {
     "name": "stdout",
     "output_type": "stream",
     "text": [
      "아랍어 개수 :  222\n"
     ]
    }
   ],
   "source": [
    "print(\"아랍어 개수 : \", count)"
   ]
  },
  {
   "cell_type": "markdown",
   "metadata": {},
   "source": [
    "<br><br>\n",
    "\n",
    "(4) 그리스어"
   ]
  },
  {
   "cell_type": "code",
   "execution_count": 116,
   "metadata": {},
   "outputs": [
    {
     "data": {
      "text/html": [
       "<div>\n",
       "<style scoped>\n",
       "    .dataframe tbody tr th:only-of-type {\n",
       "        vertical-align: middle;\n",
       "    }\n",
       "\n",
       "    .dataframe tbody tr th {\n",
       "        vertical-align: top;\n",
       "    }\n",
       "\n",
       "    .dataframe thead th {\n",
       "        text-align: right;\n",
       "    }\n",
       "</style>\n",
       "<table border=\"1\" class=\"dataframe\">\n",
       "  <thead>\n",
       "    <tr style=\"text-align: right;\">\n",
       "      <th></th>\n",
       "      <th>sentence</th>\n",
       "      <th>subject_entity</th>\n",
       "      <th>object_entity</th>\n",
       "    </tr>\n",
       "  </thead>\n",
       "  <tbody>\n",
       "    <tr>\n",
       "      <th>0</th>\n",
       "      <td>〈Something〉는 조지 해리슨이 쓰고 비틀즈가 1969년 앨범 《Abbey R...</td>\n",
       "      <td>비틀즈</td>\n",
       "      <td>조지 해리슨</td>\n",
       "    </tr>\n",
       "    <tr>\n",
       "      <th>1</th>\n",
       "      <td>호남이 기반인 바른미래당·대안신당·민주평화당이 우여곡절 끝에 합당해 민생당(가칭)으...</td>\n",
       "      <td>민주평화당</td>\n",
       "      <td>대안신당</td>\n",
       "    </tr>\n",
       "    <tr>\n",
       "      <th>2</th>\n",
       "      <td>K리그2에서 성적 1위를 달리고 있는 광주FC는 지난 26일 한국프로축구연맹으로부터...</td>\n",
       "      <td>광주FC</td>\n",
       "      <td>한국프로축구연맹</td>\n",
       "    </tr>\n",
       "    <tr>\n",
       "      <th>3</th>\n",
       "      <td>균일가 생활용품점 (주)아성다이소(대표 박정부)는 코로나19 바이러스로 어려움을 겪...</td>\n",
       "      <td>아성다이소</td>\n",
       "      <td>박정부</td>\n",
       "    </tr>\n",
       "    <tr>\n",
       "      <th>4</th>\n",
       "      <td>1967년 프로 야구 드래프트 1순위로 요미우리 자이언츠에게 입단하면서 등번호는 8...</td>\n",
       "      <td>요미우리 자이언츠</td>\n",
       "      <td>1967</td>\n",
       "    </tr>\n",
       "  </tbody>\n",
       "</table>\n",
       "</div>"
      ],
      "text/plain": [
       "                                            sentence subject_entity  \\\n",
       "0  〈Something〉는 조지 해리슨이 쓰고 비틀즈가 1969년 앨범 《Abbey R...            비틀즈   \n",
       "1  호남이 기반인 바른미래당·대안신당·민주평화당이 우여곡절 끝에 합당해 민생당(가칭)으...          민주평화당   \n",
       "2  K리그2에서 성적 1위를 달리고 있는 광주FC는 지난 26일 한국프로축구연맹으로부터...           광주FC   \n",
       "3  균일가 생활용품점 (주)아성다이소(대표 박정부)는 코로나19 바이러스로 어려움을 겪...          아성다이소   \n",
       "4  1967년 프로 야구 드래프트 1순위로 요미우리 자이언츠에게 입단하면서 등번호는 8...      요미우리 자이언츠   \n",
       "\n",
       "  object_entity  \n",
       "0        조지 해리슨  \n",
       "1          대안신당  \n",
       "2      한국프로축구연맹  \n",
       "3           박정부  \n",
       "4          1967  "
      ]
     },
     "execution_count": 116,
     "metadata": {},
     "output_type": "execute_result"
    }
   ],
   "source": [
    "count = 0\n",
    "df_split[filtering_columns].applymap(lambda x: remove_language('0370', '03ff', x)).head(5)"
   ]
  },
  {
   "cell_type": "code",
   "execution_count": 117,
   "metadata": {},
   "outputs": [
    {
     "name": "stdout",
     "output_type": "stream",
     "text": [
      "그리스어 개수 :  185\n"
     ]
    }
   ],
   "source": [
    "print(\"그리스어 개수 : \", count)"
   ]
  },
  {
   "cell_type": "markdown",
   "metadata": {},
   "source": [
    "<br><br>\n",
    "\n",
    "(5) 몽골어"
   ]
  },
  {
   "cell_type": "code",
   "execution_count": 118,
   "metadata": {},
   "outputs": [
    {
     "data": {
      "text/html": [
       "<div>\n",
       "<style scoped>\n",
       "    .dataframe tbody tr th:only-of-type {\n",
       "        vertical-align: middle;\n",
       "    }\n",
       "\n",
       "    .dataframe tbody tr th {\n",
       "        vertical-align: top;\n",
       "    }\n",
       "\n",
       "    .dataframe thead th {\n",
       "        text-align: right;\n",
       "    }\n",
       "</style>\n",
       "<table border=\"1\" class=\"dataframe\">\n",
       "  <thead>\n",
       "    <tr style=\"text-align: right;\">\n",
       "      <th></th>\n",
       "      <th>sentence</th>\n",
       "      <th>subject_entity</th>\n",
       "      <th>object_entity</th>\n",
       "    </tr>\n",
       "  </thead>\n",
       "  <tbody>\n",
       "    <tr>\n",
       "      <th>0</th>\n",
       "      <td>〈Something〉는 조지 해리슨이 쓰고 비틀즈가 1969년 앨범 《Abbey R...</td>\n",
       "      <td>비틀즈</td>\n",
       "      <td>조지 해리슨</td>\n",
       "    </tr>\n",
       "    <tr>\n",
       "      <th>1</th>\n",
       "      <td>호남이 기반인 바른미래당·대안신당·민주평화당이 우여곡절 끝에 합당해 민생당(가칭)으...</td>\n",
       "      <td>민주평화당</td>\n",
       "      <td>대안신당</td>\n",
       "    </tr>\n",
       "    <tr>\n",
       "      <th>2</th>\n",
       "      <td>K리그2에서 성적 1위를 달리고 있는 광주FC는 지난 26일 한국프로축구연맹으로부터...</td>\n",
       "      <td>광주FC</td>\n",
       "      <td>한국프로축구연맹</td>\n",
       "    </tr>\n",
       "    <tr>\n",
       "      <th>3</th>\n",
       "      <td>균일가 생활용품점 (주)아성다이소(대표 박정부)는 코로나19 바이러스로 어려움을 겪...</td>\n",
       "      <td>아성다이소</td>\n",
       "      <td>박정부</td>\n",
       "    </tr>\n",
       "    <tr>\n",
       "      <th>4</th>\n",
       "      <td>1967년 프로 야구 드래프트 1순위로 요미우리 자이언츠에게 입단하면서 등번호는 8...</td>\n",
       "      <td>요미우리 자이언츠</td>\n",
       "      <td>1967</td>\n",
       "    </tr>\n",
       "  </tbody>\n",
       "</table>\n",
       "</div>"
      ],
      "text/plain": [
       "                                            sentence subject_entity  \\\n",
       "0  〈Something〉는 조지 해리슨이 쓰고 비틀즈가 1969년 앨범 《Abbey R...            비틀즈   \n",
       "1  호남이 기반인 바른미래당·대안신당·민주평화당이 우여곡절 끝에 합당해 민생당(가칭)으...          민주평화당   \n",
       "2  K리그2에서 성적 1위를 달리고 있는 광주FC는 지난 26일 한국프로축구연맹으로부터...           광주FC   \n",
       "3  균일가 생활용품점 (주)아성다이소(대표 박정부)는 코로나19 바이러스로 어려움을 겪...          아성다이소   \n",
       "4  1967년 프로 야구 드래프트 1순위로 요미우리 자이언츠에게 입단하면서 등번호는 8...      요미우리 자이언츠   \n",
       "\n",
       "  object_entity  \n",
       "0        조지 해리슨  \n",
       "1          대안신당  \n",
       "2      한국프로축구연맹  \n",
       "3           박정부  \n",
       "4          1967  "
      ]
     },
     "execution_count": 118,
     "metadata": {},
     "output_type": "execute_result"
    }
   ],
   "source": [
    "count = 0\n",
    "df_split[filtering_columns].applymap(lambda x: remove_language('1800', '18af', x)).head(5)"
   ]
  },
  {
   "cell_type": "code",
   "execution_count": 119,
   "metadata": {},
   "outputs": [
    {
     "name": "stdout",
     "output_type": "stream",
     "text": [
      "몽골어 개수 :  0\n"
     ]
    }
   ],
   "source": [
    "print(\"몽골어 개수 : \", count)"
   ]
  },
  {
   "cell_type": "markdown",
   "metadata": {},
   "source": [
    "<br><br>\n",
    "\n",
    "(6) 일본어"
   ]
  },
  {
   "cell_type": "code",
   "execution_count": 124,
   "metadata": {},
   "outputs": [
    {
     "data": {
      "text/html": [
       "<div>\n",
       "<style scoped>\n",
       "    .dataframe tbody tr th:only-of-type {\n",
       "        vertical-align: middle;\n",
       "    }\n",
       "\n",
       "    .dataframe tbody tr th {\n",
       "        vertical-align: top;\n",
       "    }\n",
       "\n",
       "    .dataframe thead th {\n",
       "        text-align: right;\n",
       "    }\n",
       "</style>\n",
       "<table border=\"1\" class=\"dataframe\">\n",
       "  <thead>\n",
       "    <tr style=\"text-align: right;\">\n",
       "      <th></th>\n",
       "      <th>sentence</th>\n",
       "      <th>subject_entity</th>\n",
       "      <th>object_entity</th>\n",
       "    </tr>\n",
       "  </thead>\n",
       "  <tbody>\n",
       "    <tr>\n",
       "      <th>0</th>\n",
       "      <td>〈Something〉는 조지 해리슨이 쓰고 비틀즈가 1969년 앨범 《Abbey R...</td>\n",
       "      <td>비틀즈</td>\n",
       "      <td>조지 해리슨</td>\n",
       "    </tr>\n",
       "    <tr>\n",
       "      <th>1</th>\n",
       "      <td>호남이 기반인 바른미래당·대안신당·민주평화당이 우여곡절 끝에 합당해 민생당(가칭)으...</td>\n",
       "      <td>민주평화당</td>\n",
       "      <td>대안신당</td>\n",
       "    </tr>\n",
       "    <tr>\n",
       "      <th>2</th>\n",
       "      <td>K리그2에서 성적 1위를 달리고 있는 광주FC는 지난 26일 한국프로축구연맹으로부터...</td>\n",
       "      <td>광주FC</td>\n",
       "      <td>한국프로축구연맹</td>\n",
       "    </tr>\n",
       "    <tr>\n",
       "      <th>3</th>\n",
       "      <td>균일가 생활용품점 (주)아성다이소(대표 박정부)는 코로나19 바이러스로 어려움을 겪...</td>\n",
       "      <td>아성다이소</td>\n",
       "      <td>박정부</td>\n",
       "    </tr>\n",
       "    <tr>\n",
       "      <th>4</th>\n",
       "      <td>1967년 프로 야구 드래프트 1순위로 요미우리 자이언츠에게 입단하면서 등번호는 8...</td>\n",
       "      <td>요미우리 자이언츠</td>\n",
       "      <td>1967</td>\n",
       "    </tr>\n",
       "  </tbody>\n",
       "</table>\n",
       "</div>"
      ],
      "text/plain": [
       "                                            sentence subject_entity  \\\n",
       "0  〈Something〉는 조지 해리슨이 쓰고 비틀즈가 1969년 앨범 《Abbey R...            비틀즈   \n",
       "1  호남이 기반인 바른미래당·대안신당·민주평화당이 우여곡절 끝에 합당해 민생당(가칭)으...          민주평화당   \n",
       "2  K리그2에서 성적 1위를 달리고 있는 광주FC는 지난 26일 한국프로축구연맹으로부터...           광주FC   \n",
       "3  균일가 생활용품점 (주)아성다이소(대표 박정부)는 코로나19 바이러스로 어려움을 겪...          아성다이소   \n",
       "4  1967년 프로 야구 드래프트 1순위로 요미우리 자이언츠에게 입단하면서 등번호는 8...      요미우리 자이언츠   \n",
       "\n",
       "  object_entity  \n",
       "0        조지 해리슨  \n",
       "1          대안신당  \n",
       "2      한국프로축구연맹  \n",
       "3           박정부  \n",
       "4          1967  "
      ]
     },
     "execution_count": 124,
     "metadata": {},
     "output_type": "execute_result"
    }
   ],
   "source": [
    "count = 0\n",
    "df_split[filtering_columns].applymap(lambda x: remove_language('3040', '309f', x)).head(5)  # 히라가나"
   ]
  },
  {
   "cell_type": "code",
   "execution_count": 125,
   "metadata": {},
   "outputs": [
    {
     "name": "stdout",
     "output_type": "stream",
     "text": [
      "일본어(히라가나) 개수 :  197\n"
     ]
    }
   ],
   "source": [
    "print(\"일본어(히라가나) 개수 : \", count)"
   ]
  },
  {
   "cell_type": "code",
   "execution_count": 126,
   "metadata": {},
   "outputs": [
    {
     "data": {
      "text/html": [
       "<div>\n",
       "<style scoped>\n",
       "    .dataframe tbody tr th:only-of-type {\n",
       "        vertical-align: middle;\n",
       "    }\n",
       "\n",
       "    .dataframe tbody tr th {\n",
       "        vertical-align: top;\n",
       "    }\n",
       "\n",
       "    .dataframe thead th {\n",
       "        text-align: right;\n",
       "    }\n",
       "</style>\n",
       "<table border=\"1\" class=\"dataframe\">\n",
       "  <thead>\n",
       "    <tr style=\"text-align: right;\">\n",
       "      <th></th>\n",
       "      <th>sentence</th>\n",
       "      <th>subject_entity</th>\n",
       "      <th>object_entity</th>\n",
       "    </tr>\n",
       "  </thead>\n",
       "  <tbody>\n",
       "    <tr>\n",
       "      <th>0</th>\n",
       "      <td>〈Something〉는 조지 해리슨이 쓰고 비틀즈가 1969년 앨범 《Abbey R...</td>\n",
       "      <td>비틀즈</td>\n",
       "      <td>조지 해리슨</td>\n",
       "    </tr>\n",
       "    <tr>\n",
       "      <th>1</th>\n",
       "      <td>호남이 기반인 바른미래당·대안신당·민주평화당이 우여곡절 끝에 합당해 민생당(가칭)으...</td>\n",
       "      <td>민주평화당</td>\n",
       "      <td>대안신당</td>\n",
       "    </tr>\n",
       "    <tr>\n",
       "      <th>2</th>\n",
       "      <td>K리그2에서 성적 1위를 달리고 있는 광주FC는 지난 26일 한국프로축구연맹으로부터...</td>\n",
       "      <td>광주FC</td>\n",
       "      <td>한국프로축구연맹</td>\n",
       "    </tr>\n",
       "    <tr>\n",
       "      <th>3</th>\n",
       "      <td>균일가 생활용품점 (주)아성다이소(대표 박정부)는 코로나19 바이러스로 어려움을 겪...</td>\n",
       "      <td>아성다이소</td>\n",
       "      <td>박정부</td>\n",
       "    </tr>\n",
       "    <tr>\n",
       "      <th>4</th>\n",
       "      <td>1967년 프로 야구 드래프트 1순위로 요미우리 자이언츠에게 입단하면서 등번호는 8...</td>\n",
       "      <td>요미우리 자이언츠</td>\n",
       "      <td>1967</td>\n",
       "    </tr>\n",
       "  </tbody>\n",
       "</table>\n",
       "</div>"
      ],
      "text/plain": [
       "                                            sentence subject_entity  \\\n",
       "0  〈Something〉는 조지 해리슨이 쓰고 비틀즈가 1969년 앨범 《Abbey R...            비틀즈   \n",
       "1  호남이 기반인 바른미래당·대안신당·민주평화당이 우여곡절 끝에 합당해 민생당(가칭)으...          민주평화당   \n",
       "2  K리그2에서 성적 1위를 달리고 있는 광주FC는 지난 26일 한국프로축구연맹으로부터...           광주FC   \n",
       "3  균일가 생활용품점 (주)아성다이소(대표 박정부)는 코로나19 바이러스로 어려움을 겪...          아성다이소   \n",
       "4  1967년 프로 야구 드래프트 1순위로 요미우리 자이언츠에게 입단하면서 등번호는 8...      요미우리 자이언츠   \n",
       "\n",
       "  object_entity  \n",
       "0        조지 해리슨  \n",
       "1          대안신당  \n",
       "2      한국프로축구연맹  \n",
       "3           박정부  \n",
       "4          1967  "
      ]
     },
     "execution_count": 126,
     "metadata": {},
     "output_type": "execute_result"
    }
   ],
   "source": [
    "count = 0\n",
    "df_split[filtering_columns].applymap(lambda x: remove_language('30a0', '30ff', x)).head(5)  # 가타카나"
   ]
  },
  {
   "cell_type": "code",
   "execution_count": 127,
   "metadata": {},
   "outputs": [
    {
     "name": "stdout",
     "output_type": "stream",
     "text": [
      "일본어(가타카나) 개수 :  122\n"
     ]
    }
   ],
   "source": [
    "print(\"일본어(가타카나) 개수 : \", count)"
   ]
  },
  {
   "cell_type": "markdown",
   "metadata": {},
   "source": [
    "<br><br><br>"
   ]
  },
  {
   "cell_type": "markdown",
   "metadata": {},
   "source": [
    "<br><br>\n",
    "\n",
    "#### **ORG : 기관 / 조직**"
   ]
  },
  {
   "cell_type": "code",
   "execution_count": 37,
   "metadata": {},
   "outputs": [
    {
     "data": {
      "text/plain": [
       "0              비틀즈\n",
       "1            민주평화당\n",
       "2             광주FC\n",
       "3            아성다이소\n",
       "4        요미우리 자이언츠\n",
       "           ...    \n",
       "32459      삼성 라이온즈\n",
       "32460          영광군\n",
       "32467          완도군\n",
       "32468         JTBC\n",
       "32469          화순군\n",
       "Name: subject_entity, Length: 15666, dtype: object"
      ]
     },
     "execution_count": 37,
     "metadata": {},
     "output_type": "execute_result"
    }
   ],
   "source": [
    "# ORG : 기관 / 조직\n",
    "org = df_split.loc[df_split['subject_type'] == 'ORG', 'subject_entity']\n",
    "org"
   ]
  },
  {
   "cell_type": "code",
   "execution_count": 38,
   "metadata": {},
   "outputs": [
    {
     "data": {
      "image/png": "[encoded data removed]",
      "text/plain": [
       "<Figure size 1080x360 with 2 Axes>"
      ]
     },
     "metadata": {},
     "output_type": "display_data"
    }
   ],
   "source": [
    "fig, ax = plt.subplots(1, 2, figsize=(15, 5))\n",
    "\n",
    "fig.suptitle('ORG', fontsize=20)\n",
    "\n",
    "ax[0].hist([len(s) for s in org.to_list()], bins=50)\n",
    "ax[1].boxplot([len(s) for s in org.to_list()])\n",
    "ax[1].set_xticklabels(['ORG'])\n",
    "plt.show()"
   ]
  },
  {
   "cell_type": "code",
   "execution_count": 44,
   "metadata": {},
   "outputs": [],
   "source": [
    "\n",
    "\n",
    "def outliers_iqr(series):\n",
    "    series_len = pd.Series(map(len, series))\n",
    "    q1, q3 = series_len.quantile([0.25, 0.75])\n",
    "    iqr = q3 - q1\n",
    "\n",
    "    lower_whis = q1 - (iqr * 1.5)\n",
    "    upper_whis = q3 + (iqr * 1.5)\n",
    "    return series.iloc[series_len[(series_len > upper_whis) | (series_len < lower_whis)].index]"
   ]
  },
  {
   "cell_type": "code",
   "execution_count": 45,
   "metadata": {},
   "outputs": [
    {
     "data": {
      "text/plain": [
       "123      툰-운트 스포트버라인 바이어 04 레버쿠젠\n",
       "159               후쿠오카 소프트뱅크 호크스\n",
       "170                 레알 마드리드 카스티야\n",
       "178               캐나디안 로코모티브 컴퍼니\n",
       "180                 브리지워터 어소시에이츠\n",
       "                  ...           \n",
       "32047               도쿄 야쿠르트 스왈로스\n",
       "32138               반민족행위특별조사위원회\n",
       "32400            레가 프로 세콘다 디비시오네\n",
       "32419               필라델피아 세븐티식서스\n",
       "32458              스티어 프라이데이 나이트\n",
       "Name: subject_entity, Length: 349, dtype: object"
      ]
     },
     "execution_count": 45,
     "metadata": {},
     "output_type": "execute_result"
    }
   ],
   "source": [
    "outliers_iqr(org)"
   ]
  },
  {
   "cell_type": "code",
   "execution_count": 49,
   "metadata": {},
   "outputs": [],
   "source": [
    "columns = ['subject_entity', 'subject_type', 'object_entity', 'object_type', 'label']"
   ]
  },
  {
   "cell_type": "code",
   "execution_count": 50,
   "metadata": {},
   "outputs": [
    {
     "data": {
      "text/html": [
       "<div>\n",
       "<style scoped>\n",
       "    .dataframe tbody tr th:only-of-type {\n",
       "        vertical-align: middle;\n",
       "    }\n",
       "\n",
       "    .dataframe tbody tr th {\n",
       "        vertical-align: top;\n",
       "    }\n",
       "\n",
       "    .dataframe thead th {\n",
       "        text-align: right;\n",
       "    }\n",
       "</style>\n",
       "<table border=\"1\" class=\"dataframe\">\n",
       "  <thead>\n",
       "    <tr style=\"text-align: right;\">\n",
       "      <th></th>\n",
       "      <th>subject_entity</th>\n",
       "      <th>subject_type</th>\n",
       "      <th>object_entity</th>\n",
       "      <th>object_type</th>\n",
       "      <th>label</th>\n",
       "    </tr>\n",
       "  </thead>\n",
       "  <tbody>\n",
       "    <tr>\n",
       "      <th>123</th>\n",
       "      <td>툰-운트 스포트버라인 바이어 04 레버쿠젠</td>\n",
       "      <td>ORG</td>\n",
       "      <td>1904년 7월 1일</td>\n",
       "      <td>DAT</td>\n",
       "      <td>org:founded</td>\n",
       "    </tr>\n",
       "    <tr>\n",
       "      <th>159</th>\n",
       "      <td>후쿠오카 소프트뱅크 호크스</td>\n",
       "      <td>ORG</td>\n",
       "      <td>2008</td>\n",
       "      <td>DAT</td>\n",
       "      <td>no_relation</td>\n",
       "    </tr>\n",
       "    <tr>\n",
       "      <th>170</th>\n",
       "      <td>레알 마드리드 카스티야</td>\n",
       "      <td>ORG</td>\n",
       "      <td>세군다 디비시온 B</td>\n",
       "      <td>POH</td>\n",
       "      <td>no_relation</td>\n",
       "    </tr>\n",
       "    <tr>\n",
       "      <th>178</th>\n",
       "      <td>캐나디안 로코모티브 컴퍼니</td>\n",
       "      <td>ORG</td>\n",
       "      <td>캐나다</td>\n",
       "      <td>LOC</td>\n",
       "      <td>org:place_of_headquarters</td>\n",
       "    </tr>\n",
       "    <tr>\n",
       "      <th>180</th>\n",
       "      <td>브리지워터 어소시에이츠</td>\n",
       "      <td>ORG</td>\n",
       "      <td>레이 달리오</td>\n",
       "      <td>PER</td>\n",
       "      <td>org:top_members/employees</td>\n",
       "    </tr>\n",
       "    <tr>\n",
       "      <th>...</th>\n",
       "      <td>...</td>\n",
       "      <td>...</td>\n",
       "      <td>...</td>\n",
       "      <td>...</td>\n",
       "      <td>...</td>\n",
       "    </tr>\n",
       "    <tr>\n",
       "      <th>32047</th>\n",
       "      <td>도쿄 야쿠르트 스왈로스</td>\n",
       "      <td>ORG</td>\n",
       "      <td>센트럴 리그</td>\n",
       "      <td>POH</td>\n",
       "      <td>org:member_of</td>\n",
       "    </tr>\n",
       "    <tr>\n",
       "      <th>32138</th>\n",
       "      <td>반민족행위특별조사위원회</td>\n",
       "      <td>ORG</td>\n",
       "      <td>반민특위</td>\n",
       "      <td>ORG</td>\n",
       "      <td>org:alternate_names</td>\n",
       "    </tr>\n",
       "    <tr>\n",
       "      <th>32400</th>\n",
       "      <td>레가 프로 세콘다 디비시오네</td>\n",
       "      <td>ORG</td>\n",
       "      <td>세리에 D</td>\n",
       "      <td>POH</td>\n",
       "      <td>no_relation</td>\n",
       "    </tr>\n",
       "    <tr>\n",
       "      <th>32419</th>\n",
       "      <td>필라델피아 세븐티식서스</td>\n",
       "      <td>ORG</td>\n",
       "      <td>NBA</td>\n",
       "      <td>ORG</td>\n",
       "      <td>org:member_of</td>\n",
       "    </tr>\n",
       "    <tr>\n",
       "      <th>32458</th>\n",
       "      <td>스티어 프라이데이 나이트</td>\n",
       "      <td>ORG</td>\n",
       "      <td>Stir Friday Night</td>\n",
       "      <td>POH</td>\n",
       "      <td>org:alternate_names</td>\n",
       "    </tr>\n",
       "  </tbody>\n",
       "</table>\n",
       "<p>349 rows × 5 columns</p>\n",
       "</div>"
      ],
      "text/plain": [
       "                subject_entity subject_type      object_entity object_type  \\\n",
       "123    툰-운트 스포트버라인 바이어 04 레버쿠젠          ORG        1904년 7월 1일         DAT   \n",
       "159             후쿠오카 소프트뱅크 호크스          ORG               2008         DAT   \n",
       "170               레알 마드리드 카스티야          ORG         세군다 디비시온 B         POH   \n",
       "178             캐나디안 로코모티브 컴퍼니          ORG                캐나다         LOC   \n",
       "180               브리지워터 어소시에이츠          ORG             레이 달리오         PER   \n",
       "...                        ...          ...                ...         ...   \n",
       "32047             도쿄 야쿠르트 스왈로스          ORG             센트럴 리그         POH   \n",
       "32138             반민족행위특별조사위원회          ORG               반민특위         ORG   \n",
       "32400          레가 프로 세콘다 디비시오네          ORG              세리에 D         POH   \n",
       "32419             필라델피아 세븐티식서스          ORG                NBA         ORG   \n",
       "32458            스티어 프라이데이 나이트          ORG  Stir Friday Night         POH   \n",
       "\n",
       "                           label  \n",
       "123                  org:founded  \n",
       "159                  no_relation  \n",
       "170                  no_relation  \n",
       "178    org:place_of_headquarters  \n",
       "180    org:top_members/employees  \n",
       "...                          ...  \n",
       "32047              org:member_of  \n",
       "32138        org:alternate_names  \n",
       "32400                no_relation  \n",
       "32419              org:member_of  \n",
       "32458        org:alternate_names  \n",
       "\n",
       "[349 rows x 5 columns]"
      ]
     },
     "execution_count": 50,
     "metadata": {},
     "output_type": "execute_result"
    }
   ],
   "source": [
    "df_split.loc[outliers_iqr(org).index, columns]"
   ]
  },
  {
   "cell_type": "markdown",
   "metadata": {},
   "source": [
    "<br><br>\n",
    "\n",
    "#### **PER : 사람**"
   ]
  },
  {
   "cell_type": "code",
   "execution_count": 51,
   "metadata": {},
   "outputs": [
    {
     "data": {
      "text/plain": [
       "7              박용오\n",
       "9              안규백\n",
       "10       하비에르 파스토레\n",
       "11         빌리 아일리시\n",
       "14           미켈란젤로\n",
       "           ...    \n",
       "32462          방승환\n",
       "32463       루이 14세\n",
       "32464          이창진\n",
       "32465          유기준\n",
       "32466          최시형\n",
       "Name: subject_entity, Length: 16783, dtype: object"
      ]
     },
     "execution_count": 51,
     "metadata": {},
     "output_type": "execute_result"
    }
   ],
   "source": [
    "# PER : 사람\n",
    "per = df_split.loc[df_split['subject_type'] == 'PER', 'subject_entity']\n",
    "per"
   ]
  },
  {
   "cell_type": "code",
   "execution_count": 52,
   "metadata": {},
   "outputs": [
    {
     "data": {
      "image/png": "[encoded data removed]",
      "text/plain": [
       "<Figure size 1080x360 with 2 Axes>"
      ]
     },
     "metadata": {},
     "output_type": "display_data"
    }
   ],
   "source": [
    "fig, ax = plt.subplots(1, 2, figsize=(15, 5))\n",
    "\n",
    "fig.suptitle('PER', fontsize=20)\n",
    "\n",
    "ax[0].hist([len(s) for s in per.to_list()], bins=50)\n",
    "ax[1].boxplot([len(s) for s in per.to_list()])\n",
    "ax[1].set_xticklabels(['PER'])\n",
    "plt.show()"
   ]
  },
  {
   "cell_type": "code",
   "execution_count": 53,
   "metadata": {},
   "outputs": [
    {
     "data": {
      "text/plain": [
       "333      블라디미르 게레로 주니어\n",
       "474       페넬로페 크루스 산체스\n",
       "551       스텔리오스 얀나코풀로스\n",
       "556        프랭크 로이드 라이트\n",
       "571        베르트 판 마르바이크\n",
       "             ...      \n",
       "31869      카를로 마리아 줄리니\n",
       "32061     비토리오 아메데오 2세\n",
       "32170    아부 마흐디 알 무한디스\n",
       "32251    드와이트 D. 아이젠하워\n",
       "32324      Mr.Children\n",
       "Name: subject_entity, Length: 428, dtype: object"
      ]
     },
     "execution_count": 53,
     "metadata": {},
     "output_type": "execute_result"
    }
   ],
   "source": [
    "outliers_iqr(per)"
   ]
  },
  {
   "cell_type": "code",
   "execution_count": 54,
   "metadata": {},
   "outputs": [
    {
     "data": {
      "text/html": [
       "<div>\n",
       "<style scoped>\n",
       "    .dataframe tbody tr th:only-of-type {\n",
       "        vertical-align: middle;\n",
       "    }\n",
       "\n",
       "    .dataframe tbody tr th {\n",
       "        vertical-align: top;\n",
       "    }\n",
       "\n",
       "    .dataframe thead th {\n",
       "        text-align: right;\n",
       "    }\n",
       "</style>\n",
       "<table border=\"1\" class=\"dataframe\">\n",
       "  <thead>\n",
       "    <tr style=\"text-align: right;\">\n",
       "      <th></th>\n",
       "      <th>subject_entity</th>\n",
       "      <th>subject_type</th>\n",
       "      <th>object_entity</th>\n",
       "      <th>object_type</th>\n",
       "      <th>label</th>\n",
       "    </tr>\n",
       "  </thead>\n",
       "  <tbody>\n",
       "    <tr>\n",
       "      <th>333</th>\n",
       "      <td>블라디미르 게레로 주니어</td>\n",
       "      <td>PER</td>\n",
       "      <td>1999년 3월 16일</td>\n",
       "      <td>DAT</td>\n",
       "      <td>per:date_of_birth</td>\n",
       "    </tr>\n",
       "    <tr>\n",
       "      <th>474</th>\n",
       "      <td>페넬로페 크루스 산체스</td>\n",
       "      <td>PER</td>\n",
       "      <td>1974년 4월 28일</td>\n",
       "      <td>DAT</td>\n",
       "      <td>per:date_of_birth</td>\n",
       "    </tr>\n",
       "    <tr>\n",
       "      <th>551</th>\n",
       "      <td>스텔리오스 얀나코풀로스</td>\n",
       "      <td>PER</td>\n",
       "      <td>그리스</td>\n",
       "      <td>ORG</td>\n",
       "      <td>per:origin</td>\n",
       "    </tr>\n",
       "    <tr>\n",
       "      <th>556</th>\n",
       "      <td>프랭크 로이드 라이트</td>\n",
       "      <td>PER</td>\n",
       "      <td>건축가</td>\n",
       "      <td>POH</td>\n",
       "      <td>per:title</td>\n",
       "    </tr>\n",
       "    <tr>\n",
       "      <th>571</th>\n",
       "      <td>베르트 판 마르바이크</td>\n",
       "      <td>PER</td>\n",
       "      <td>네덜란드</td>\n",
       "      <td>ORG</td>\n",
       "      <td>per:employee_of</td>\n",
       "    </tr>\n",
       "    <tr>\n",
       "      <th>...</th>\n",
       "      <td>...</td>\n",
       "      <td>...</td>\n",
       "      <td>...</td>\n",
       "      <td>...</td>\n",
       "      <td>...</td>\n",
       "    </tr>\n",
       "    <tr>\n",
       "      <th>31869</th>\n",
       "      <td>카를로 마리아 줄리니</td>\n",
       "      <td>PER</td>\n",
       "      <td>지휘자</td>\n",
       "      <td>POH</td>\n",
       "      <td>no_relation</td>\n",
       "    </tr>\n",
       "    <tr>\n",
       "      <th>32061</th>\n",
       "      <td>비토리오 아메데오 2세</td>\n",
       "      <td>PER</td>\n",
       "      <td>오를레앙의 안나 마리아</td>\n",
       "      <td>LOC</td>\n",
       "      <td>per:spouse</td>\n",
       "    </tr>\n",
       "    <tr>\n",
       "      <th>32170</th>\n",
       "      <td>아부 마흐디 알 무한디스</td>\n",
       "      <td>PER</td>\n",
       "      <td>이라크</td>\n",
       "      <td>LOC</td>\n",
       "      <td>per:origin</td>\n",
       "    </tr>\n",
       "    <tr>\n",
       "      <th>32251</th>\n",
       "      <td>드와이트 D. 아이젠하워</td>\n",
       "      <td>PER</td>\n",
       "      <td>미국 육군</td>\n",
       "      <td>LOC</td>\n",
       "      <td>per:employee_of</td>\n",
       "    </tr>\n",
       "    <tr>\n",
       "      <th>32324</th>\n",
       "      <td>Mr.Children</td>\n",
       "      <td>PER</td>\n",
       "      <td>고바야시 다케시</td>\n",
       "      <td>PER</td>\n",
       "      <td>per:employee_of</td>\n",
       "    </tr>\n",
       "  </tbody>\n",
       "</table>\n",
       "<p>428 rows × 5 columns</p>\n",
       "</div>"
      ],
      "text/plain": [
       "      subject_entity subject_type object_entity object_type              label\n",
       "333    블라디미르 게레로 주니어          PER  1999년 3월 16일         DAT  per:date_of_birth\n",
       "474     페넬로페 크루스 산체스          PER  1974년 4월 28일         DAT  per:date_of_birth\n",
       "551     스텔리오스 얀나코풀로스          PER           그리스         ORG         per:origin\n",
       "556      프랭크 로이드 라이트          PER           건축가         POH          per:title\n",
       "571      베르트 판 마르바이크          PER          네덜란드         ORG    per:employee_of\n",
       "...              ...          ...           ...         ...                ...\n",
       "31869    카를로 마리아 줄리니          PER           지휘자         POH        no_relation\n",
       "32061   비토리오 아메데오 2세          PER  오를레앙의 안나 마리아         LOC         per:spouse\n",
       "32170  아부 마흐디 알 무한디스          PER           이라크         LOC         per:origin\n",
       "32251  드와이트 D. 아이젠하워          PER         미국 육군         LOC    per:employee_of\n",
       "32324    Mr.Children          PER      고바야시 다케시         PER    per:employee_of\n",
       "\n",
       "[428 rows x 5 columns]"
      ]
     },
     "execution_count": 54,
     "metadata": {},
     "output_type": "execute_result"
    }
   ],
   "source": [
    "df_split.loc[outliers_iqr(per).index, columns]"
   ]
  },
  {
   "cell_type": "markdown",
   "metadata": {},
   "source": [
    "<br><br>\n",
    "\n",
    "#### **DAT : 날짜**"
   ]
  },
  {
   "cell_type": "code",
   "execution_count": 128,
   "metadata": {},
   "outputs": [
    {
     "name": "stderr",
     "output_type": "stream",
     "text": [
      "C:\\Users\\Public\\Documents\\ESTsoft\\CreatorTemp\\ipykernel_17916\\1421186813.py:3: FutureWarning: The behavior of `series[i:j]` with an integer-dtype index is deprecated. In a future version, this will be treated as *label-based* indexing, consistent with e.g. `series[i]` lookups. To retain the old behavior, use `series.iloc[i:j]`. To get the future behavior, use `series.loc[i:j]`.\n",
      "  dat[:5]\n"
     ]
    },
    {
     "data": {
      "text/plain": [
       "4              1967\n",
       "6              1989\n",
       "7      1937년 4월 29일\n",
       "14             르네상스\n",
       "45    1800년 ~ 1862년\n",
       "Name: object_entity, dtype: object"
      ]
     },
     "execution_count": 128,
     "metadata": {},
     "output_type": "execute_result"
    }
   ],
   "source": [
    "# DAT : 날짜\n",
    "dat = df_split.loc[df_split['object_type'] == 'DAT', 'object_entity']\n",
    "dat[:5]"
   ]
  },
  {
   "cell_type": "code",
   "execution_count": 129,
   "metadata": {},
   "outputs": [
    {
     "data": {
      "image/png": "[encoded data removed]",
      "text/plain": [
       "<Figure size 1080x360 with 2 Axes>"
      ]
     },
     "metadata": {},
     "output_type": "display_data"
    }
   ],
   "source": [
    "fig, ax = plt.subplots(1, 2, figsize=(15, 5))\n",
    "\n",
    "fig.suptitle('DAT', fontsize=20)\n",
    "\n",
    "ax[0].hist([len(s) for s in dat.to_list()], bins=50)\n",
    "ax[1].boxplot([len(s) for s in dat.to_list()])\n",
    "ax[1].set_xticklabels(['DAT'])\n",
    "plt.show()"
   ]
  },
  {
   "cell_type": "code",
   "execution_count": 130,
   "metadata": {},
   "outputs": [
    {
     "data": {
      "text/plain": [
       "457       1915년 9월 9일 ~ 1958년 11월 19일\n",
       "2280        1854년 1월 12일-1920년 1월 11일\n",
       "2446     1880년 11월 28일 ~ 1960년 2월 10일\n",
       "6678      1918년 6월 13일 - 1944년 10월 7일\n",
       "8284     1912년 10월 24일 – 1988년 11월 4일\n",
       "8809       1770년 5월 10일 ~ 1823년 6월 1일\n",
       "8980      1768년 12월 7일 - 1855년 5월 26일\n",
       "10227       1899년 6월 1일 ~ 1968년 4월 1일\n",
       "12039     1862년 1월 19일 ~ 1933년 10월 7일\n",
       "13193     1909년 8월 12일 ~ 1935년 1월 23일\n",
       "20683         579년 8월 24일 (음력 7월 17일)\n",
       "21143    1908년 6월 21일 ~ 1932년 12월 19일\n",
       "23634         1559년 - 1592년 음력 4월 28일\n",
       "28718         2017년 영화 '내 마음 깊은 곳의 너'\n",
       "31653      1937년 7월 6일 ~ 2016년 1월 25일\n",
       "31670    1931년 4월 14일 ~ 1931년 12월 13일\n",
       "Name: object_entity, dtype: object"
      ]
     },
     "execution_count": 130,
     "metadata": {},
     "output_type": "execute_result"
    }
   ],
   "source": [
    "outliers_iqr(dat)"
   ]
  },
  {
   "cell_type": "code",
   "execution_count": 131,
   "metadata": {},
   "outputs": [
    {
     "data": {
      "text/html": [
       "<div>\n",
       "<style scoped>\n",
       "    .dataframe tbody tr th:only-of-type {\n",
       "        vertical-align: middle;\n",
       "    }\n",
       "\n",
       "    .dataframe tbody tr th {\n",
       "        vertical-align: top;\n",
       "    }\n",
       "\n",
       "    .dataframe thead th {\n",
       "        text-align: right;\n",
       "    }\n",
       "</style>\n",
       "<table border=\"1\" class=\"dataframe\">\n",
       "  <thead>\n",
       "    <tr style=\"text-align: right;\">\n",
       "      <th></th>\n",
       "      <th>subject_entity</th>\n",
       "      <th>subject_type</th>\n",
       "      <th>object_entity</th>\n",
       "      <th>object_type</th>\n",
       "      <th>label</th>\n",
       "    </tr>\n",
       "  </thead>\n",
       "  <tbody>\n",
       "    <tr>\n",
       "      <th>457</th>\n",
       "      <td>류경수</td>\n",
       "      <td>PER</td>\n",
       "      <td>1915년 9월 9일 ~ 1958년 11월 19일</td>\n",
       "      <td>DAT</td>\n",
       "      <td>per:date_of_birth</td>\n",
       "    </tr>\n",
       "    <tr>\n",
       "      <th>2280</th>\n",
       "      <td>가타오카 시치로</td>\n",
       "      <td>PER</td>\n",
       "      <td>1854년 1월 12일-1920년 1월 11일</td>\n",
       "      <td>DAT</td>\n",
       "      <td>per:date_of_birth</td>\n",
       "    </tr>\n",
       "    <tr>\n",
       "      <th>2446</th>\n",
       "      <td>박두영</td>\n",
       "      <td>PER</td>\n",
       "      <td>1880년 11월 28일 ~ 1960년 2월 10일</td>\n",
       "      <td>DAT</td>\n",
       "      <td>no_relation</td>\n",
       "    </tr>\n",
       "    <tr>\n",
       "      <th>6678</th>\n",
       "      <td>헬무트 렌트</td>\n",
       "      <td>PER</td>\n",
       "      <td>1918년 6월 13일 - 1944년 10월 7일</td>\n",
       "      <td>DAT</td>\n",
       "      <td>no_relation</td>\n",
       "    </tr>\n",
       "    <tr>\n",
       "      <th>8284</th>\n",
       "      <td>헤르만 그라프</td>\n",
       "      <td>PER</td>\n",
       "      <td>1912년 10월 24일 – 1988년 11월 4일</td>\n",
       "      <td>DAT</td>\n",
       "      <td>no_relation</td>\n",
       "    </tr>\n",
       "    <tr>\n",
       "      <th>8809</th>\n",
       "      <td>루이 니콜라 다부</td>\n",
       "      <td>PER</td>\n",
       "      <td>1770년 5월 10일 ~ 1823년 6월 1일</td>\n",
       "      <td>DAT</td>\n",
       "      <td>no_relation</td>\n",
       "    </tr>\n",
       "    <tr>\n",
       "      <th>8980</th>\n",
       "      <td>장 이시도르 아리스프</td>\n",
       "      <td>PER</td>\n",
       "      <td>1768년 12월 7일 - 1855년 5월 26일</td>\n",
       "      <td>DAT</td>\n",
       "      <td>no_relation</td>\n",
       "    </tr>\n",
       "    <tr>\n",
       "      <th>10227</th>\n",
       "      <td>노덕술</td>\n",
       "      <td>PER</td>\n",
       "      <td>1899년 6월 1일 ~ 1968년 4월 1일</td>\n",
       "      <td>DAT</td>\n",
       "      <td>per:date_of_birth</td>\n",
       "    </tr>\n",
       "    <tr>\n",
       "      <th>12039</th>\n",
       "      <td>한창수</td>\n",
       "      <td>PER</td>\n",
       "      <td>1862년 1월 19일 ~ 1933년 10월 7일</td>\n",
       "      <td>DAT</td>\n",
       "      <td>per:date_of_birth</td>\n",
       "    </tr>\n",
       "    <tr>\n",
       "      <th>13193</th>\n",
       "      <td>최용신</td>\n",
       "      <td>PER</td>\n",
       "      <td>1909년 8월 12일 ~ 1935년 1월 23일</td>\n",
       "      <td>DAT</td>\n",
       "      <td>per:date_of_birth</td>\n",
       "    </tr>\n",
       "    <tr>\n",
       "      <th>20683</th>\n",
       "      <td>진지왕</td>\n",
       "      <td>PER</td>\n",
       "      <td>579년 8월 24일 (음력 7월 17일)</td>\n",
       "      <td>DAT</td>\n",
       "      <td>per:date_of_death</td>\n",
       "    </tr>\n",
       "    <tr>\n",
       "      <th>21143</th>\n",
       "      <td>윤봉길</td>\n",
       "      <td>PER</td>\n",
       "      <td>1908년 6월 21일 ~ 1932년 12월 19일</td>\n",
       "      <td>DAT</td>\n",
       "      <td>per:date_of_birth</td>\n",
       "    </tr>\n",
       "    <tr>\n",
       "      <th>23634</th>\n",
       "      <td>이인남</td>\n",
       "      <td>PER</td>\n",
       "      <td>1559년 - 1592년 음력 4월 28일</td>\n",
       "      <td>DAT</td>\n",
       "      <td>per:date_of_birth</td>\n",
       "    </tr>\n",
       "    <tr>\n",
       "      <th>28718</th>\n",
       "      <td>차인하</td>\n",
       "      <td>PER</td>\n",
       "      <td>2017년 영화 '내 마음 깊은 곳의 너'</td>\n",
       "      <td>DAT</td>\n",
       "      <td>no_relation</td>\n",
       "    </tr>\n",
       "    <tr>\n",
       "      <th>31653</th>\n",
       "      <td>위르겐 힌츠페터</td>\n",
       "      <td>PER</td>\n",
       "      <td>1937년 7월 6일 ~ 2016년 1월 25일</td>\n",
       "      <td>DAT</td>\n",
       "      <td>per:date_of_birth</td>\n",
       "    </tr>\n",
       "    <tr>\n",
       "      <th>31670</th>\n",
       "      <td>와카쓰키 레이지로</td>\n",
       "      <td>PER</td>\n",
       "      <td>1931년 4월 14일 ~ 1931년 12월 13일</td>\n",
       "      <td>DAT</td>\n",
       "      <td>no_relation</td>\n",
       "    </tr>\n",
       "  </tbody>\n",
       "</table>\n",
       "</div>"
      ],
      "text/plain": [
       "      subject_entity subject_type                 object_entity object_type  \\\n",
       "457              류경수          PER   1915년 9월 9일 ~ 1958년 11월 19일         DAT   \n",
       "2280        가타오카 시치로          PER     1854년 1월 12일-1920년 1월 11일         DAT   \n",
       "2446             박두영          PER  1880년 11월 28일 ~ 1960년 2월 10일         DAT   \n",
       "6678          헬무트 렌트          PER   1918년 6월 13일 - 1944년 10월 7일         DAT   \n",
       "8284         헤르만 그라프          PER  1912년 10월 24일 – 1988년 11월 4일         DAT   \n",
       "8809       루이 니콜라 다부          PER    1770년 5월 10일 ~ 1823년 6월 1일         DAT   \n",
       "8980     장 이시도르 아리스프          PER   1768년 12월 7일 - 1855년 5월 26일         DAT   \n",
       "10227            노덕술          PER     1899년 6월 1일 ~ 1968년 4월 1일         DAT   \n",
       "12039            한창수          PER   1862년 1월 19일 ~ 1933년 10월 7일         DAT   \n",
       "13193            최용신          PER   1909년 8월 12일 ~ 1935년 1월 23일         DAT   \n",
       "20683            진지왕          PER       579년 8월 24일 (음력 7월 17일)         DAT   \n",
       "21143            윤봉길          PER  1908년 6월 21일 ~ 1932년 12월 19일         DAT   \n",
       "23634            이인남          PER       1559년 - 1592년 음력 4월 28일         DAT   \n",
       "28718            차인하          PER       2017년 영화 '내 마음 깊은 곳의 너'         DAT   \n",
       "31653       위르겐 힌츠페터          PER    1937년 7월 6일 ~ 2016년 1월 25일         DAT   \n",
       "31670      와카쓰키 레이지로          PER  1931년 4월 14일 ~ 1931년 12월 13일         DAT   \n",
       "\n",
       "                   label  \n",
       "457    per:date_of_birth  \n",
       "2280   per:date_of_birth  \n",
       "2446         no_relation  \n",
       "6678         no_relation  \n",
       "8284         no_relation  \n",
       "8809         no_relation  \n",
       "8980         no_relation  \n",
       "10227  per:date_of_birth  \n",
       "12039  per:date_of_birth  \n",
       "13193  per:date_of_birth  \n",
       "20683  per:date_of_death  \n",
       "21143  per:date_of_birth  \n",
       "23634  per:date_of_birth  \n",
       "28718        no_relation  \n",
       "31653  per:date_of_birth  \n",
       "31670        no_relation  "
      ]
     },
     "execution_count": 131,
     "metadata": {},
     "output_type": "execute_result"
    }
   ],
   "source": [
    "df_split.loc[outliers_iqr(dat).index, columns]"
   ]
  },
  {
   "cell_type": "markdown",
   "metadata": {},
   "source": [
    "<br><br>\n",
    "\n",
    "#### **LOC : 장소 / 위치**"
   ]
  },
  {
   "cell_type": "code",
   "execution_count": 64,
   "metadata": {},
   "outputs": [
    {
     "data": {
      "text/plain": [
       "Series([], Name: object_entity, dtype: object)"
      ]
     },
     "execution_count": 64,
     "metadata": {},
     "output_type": "execute_result"
    }
   ],
   "source": [
    "# LOC : 장소 / 위치\n",
    "location = df_split.loc[df_split['object_type'] == 'LOC', 'object_entity']\n",
    "location.loc[:5]"
   ]
  },
  {
   "cell_type": "code",
   "execution_count": 65,
   "metadata": {},
   "outputs": [
    {
     "data": {
      "image/png": "[encoded data removed]",
      "text/plain": [
       "<Figure size 1080x360 with 2 Axes>"
      ]
     },
     "metadata": {},
     "output_type": "display_data"
    }
   ],
   "source": [
    "fig, ax = plt.subplots(1, 2, figsize=(15, 5))\n",
    "\n",
    "fig.suptitle('LOC', fontsize=20)\n",
    "\n",
    "ax[0].hist([len(s) for s in location.to_list()], bins=50)\n",
    "ax[1].boxplot([len(s) for s in location.to_list()])\n",
    "ax[1].set_xticklabels(['LOC'])\n",
    "plt.show()"
   ]
  },
  {
   "cell_type": "code",
   "execution_count": 66,
   "metadata": {},
   "outputs": [
    {
     "data": {
      "text/plain": [
       "91          조선 충청도 공주\n",
       "129       조선민주주의인민공화국\n",
       "134        스코틀랜드 에든버러\n",
       "702         오리건주 포틀랜드\n",
       "797       광주광역시 행정부시장\n",
       "             ...     \n",
       "31812       폴란드-리투아니아\n",
       "32061    오를레앙의 안나 마리아\n",
       "32099       유고슬라비아로부터\n",
       "32221       일리노이주 시카고\n",
       "32423       아시리아 군사회의\n",
       "Name: object_entity, Length: 267, dtype: object"
      ]
     },
     "execution_count": 66,
     "metadata": {},
     "output_type": "execute_result"
    }
   ],
   "source": [
    "outliers_iqr(location)"
   ]
  },
  {
   "cell_type": "code",
   "execution_count": 67,
   "metadata": {},
   "outputs": [
    {
     "data": {
      "text/html": [
       "<div>\n",
       "<style scoped>\n",
       "    .dataframe tbody tr th:only-of-type {\n",
       "        vertical-align: middle;\n",
       "    }\n",
       "\n",
       "    .dataframe tbody tr th {\n",
       "        vertical-align: top;\n",
       "    }\n",
       "\n",
       "    .dataframe thead th {\n",
       "        text-align: right;\n",
       "    }\n",
       "</style>\n",
       "<table border=\"1\" class=\"dataframe\">\n",
       "  <thead>\n",
       "    <tr style=\"text-align: right;\">\n",
       "      <th></th>\n",
       "      <th>subject_entity</th>\n",
       "      <th>subject_type</th>\n",
       "      <th>object_entity</th>\n",
       "      <th>object_type</th>\n",
       "      <th>label</th>\n",
       "    </tr>\n",
       "  </thead>\n",
       "  <tbody>\n",
       "    <tr>\n",
       "      <th>91</th>\n",
       "      <td>백한성</td>\n",
       "      <td>PER</td>\n",
       "      <td>조선 충청도 공주</td>\n",
       "      <td>LOC</td>\n",
       "      <td>per:place_of_birth</td>\n",
       "    </tr>\n",
       "    <tr>\n",
       "      <th>129</th>\n",
       "      <td>조선중앙통신사</td>\n",
       "      <td>ORG</td>\n",
       "      <td>조선민주주의인민공화국</td>\n",
       "      <td>LOC</td>\n",
       "      <td>org:place_of_headquarters</td>\n",
       "    </tr>\n",
       "    <tr>\n",
       "      <th>134</th>\n",
       "      <td>에든버러 대학교</td>\n",
       "      <td>ORG</td>\n",
       "      <td>스코틀랜드 에든버러</td>\n",
       "      <td>LOC</td>\n",
       "      <td>org:place_of_headquarters</td>\n",
       "    </tr>\n",
       "    <tr>\n",
       "      <th>702</th>\n",
       "      <td>리드 칼리지</td>\n",
       "      <td>ORG</td>\n",
       "      <td>오리건주 포틀랜드</td>\n",
       "      <td>LOC</td>\n",
       "      <td>org:place_of_headquarters</td>\n",
       "    </tr>\n",
       "    <tr>\n",
       "      <th>797</th>\n",
       "      <td>정종제</td>\n",
       "      <td>PER</td>\n",
       "      <td>광주광역시 행정부시장</td>\n",
       "      <td>LOC</td>\n",
       "      <td>per:title</td>\n",
       "    </tr>\n",
       "    <tr>\n",
       "      <th>...</th>\n",
       "      <td>...</td>\n",
       "      <td>...</td>\n",
       "      <td>...</td>\n",
       "      <td>...</td>\n",
       "      <td>...</td>\n",
       "    </tr>\n",
       "    <tr>\n",
       "      <th>31812</th>\n",
       "      <td>폴란드 왕국</td>\n",
       "      <td>ORG</td>\n",
       "      <td>폴란드-리투아니아</td>\n",
       "      <td>LOC</td>\n",
       "      <td>no_relation</td>\n",
       "    </tr>\n",
       "    <tr>\n",
       "      <th>32061</th>\n",
       "      <td>비토리오 아메데오 2세</td>\n",
       "      <td>PER</td>\n",
       "      <td>오를레앙의 안나 마리아</td>\n",
       "      <td>LOC</td>\n",
       "      <td>per:spouse</td>\n",
       "    </tr>\n",
       "    <tr>\n",
       "      <th>32099</th>\n",
       "      <td>보스니아 헤르체고비나</td>\n",
       "      <td>ORG</td>\n",
       "      <td>유고슬라비아로부터</td>\n",
       "      <td>LOC</td>\n",
       "      <td>no_relation</td>\n",
       "    </tr>\n",
       "    <tr>\n",
       "      <th>32221</th>\n",
       "      <td>메트라</td>\n",
       "      <td>ORG</td>\n",
       "      <td>일리노이주 시카고</td>\n",
       "      <td>LOC</td>\n",
       "      <td>org:place_of_headquarters</td>\n",
       "    </tr>\n",
       "    <tr>\n",
       "      <th>32423</th>\n",
       "      <td>인민수호부대</td>\n",
       "      <td>ORG</td>\n",
       "      <td>아시리아 군사회의</td>\n",
       "      <td>LOC</td>\n",
       "      <td>no_relation</td>\n",
       "    </tr>\n",
       "  </tbody>\n",
       "</table>\n",
       "<p>267 rows × 5 columns</p>\n",
       "</div>"
      ],
      "text/plain": [
       "      subject_entity subject_type object_entity object_type  \\\n",
       "91               백한성          PER     조선 충청도 공주         LOC   \n",
       "129          조선중앙통신사          ORG   조선민주주의인민공화국         LOC   \n",
       "134         에든버러 대학교          ORG    스코틀랜드 에든버러         LOC   \n",
       "702           리드 칼리지          ORG     오리건주 포틀랜드         LOC   \n",
       "797              정종제          PER   광주광역시 행정부시장         LOC   \n",
       "...              ...          ...           ...         ...   \n",
       "31812         폴란드 왕국          ORG     폴란드-리투아니아         LOC   \n",
       "32061   비토리오 아메데오 2세          PER  오를레앙의 안나 마리아         LOC   \n",
       "32099    보스니아 헤르체고비나          ORG     유고슬라비아로부터         LOC   \n",
       "32221            메트라          ORG     일리노이주 시카고         LOC   \n",
       "32423         인민수호부대          ORG     아시리아 군사회의         LOC   \n",
       "\n",
       "                           label  \n",
       "91            per:place_of_birth  \n",
       "129    org:place_of_headquarters  \n",
       "134    org:place_of_headquarters  \n",
       "702    org:place_of_headquarters  \n",
       "797                    per:title  \n",
       "...                          ...  \n",
       "31812                no_relation  \n",
       "32061                 per:spouse  \n",
       "32099                no_relation  \n",
       "32221  org:place_of_headquarters  \n",
       "32423                no_relation  \n",
       "\n",
       "[267 rows x 5 columns]"
      ]
     },
     "execution_count": 67,
     "metadata": {},
     "output_type": "execute_result"
    }
   ],
   "source": [
    "df_split.loc[outliers_iqr(location).index, columns]"
   ]
  },
  {
   "cell_type": "markdown",
   "metadata": {},
   "source": [
    "<br><br>\n",
    "\n",
    "#### **POH : 고유명사 / 명사**"
   ]
  },
  {
   "cell_type": "code",
   "execution_count": 70,
   "metadata": {},
   "outputs": [
    {
     "data": {
      "text/plain": [
       "11                  싱어송라이터\n",
       "24                     1루수\n",
       "30        Voice of America\n",
       "38                     국악인\n",
       "41                     만화가\n",
       "               ...        \n",
       "32444                 K리그1\n",
       "32446           서울시립과학관 관장\n",
       "32458    Stir Friday Night\n",
       "32462                  공격수\n",
       "32464                  외야수\n",
       "Name: object_entity, Length: 5113, dtype: object"
      ]
     },
     "execution_count": 70,
     "metadata": {},
     "output_type": "execute_result"
    }
   ],
   "source": [
    "# POH : 고유명사 / 명사\n",
    "poh = df_split.loc[df_split['object_type'] == 'POH', 'object_entity']\n",
    "poh"
   ]
  },
  {
   "cell_type": "code",
   "execution_count": 71,
   "metadata": {},
   "outputs": [
    {
     "data": {
      "image/png": "[encoded data removed]",
      "text/plain": [
       "<Figure size 1080x360 with 2 Axes>"
      ]
     },
     "metadata": {},
     "output_type": "display_data"
    }
   ],
   "source": [
    "fig, ax = plt.subplots(1, 2, figsize=(15, 5))\n",
    "\n",
    "fig.suptitle('POH', fontsize=20)\n",
    "\n",
    "ax[0].hist([len(s) for s in poh.to_list()], bins=50)\n",
    "ax[1].boxplot([len(s) for s in poh.to_list()])\n",
    "ax[1].set_xticklabels(['POH'])\n",
    "plt.show()"
   ]
  },
  {
   "cell_type": "code",
   "execution_count": 72,
   "metadata": {},
   "outputs": [
    {
     "data": {
      "text/plain": [
       "30        Voice of America\n",
       "151            2009년 한국시리즈\n",
       "161          광주광역시 문화경제부시장\n",
       "393          사회부총리 겸 교육부장관\n",
       "903           우리들의 일그러진 영웅\n",
       "               ...        \n",
       "31716          조선민주주의인민공화국\n",
       "32036          서울종합운동장 야구장\n",
       "32197          오페라 극장 살인사건\n",
       "32218          라이언스(Lions)\n",
       "32458    Stir Friday Night\n",
       "Name: object_entity, Length: 164, dtype: object"
      ]
     },
     "execution_count": 72,
     "metadata": {},
     "output_type": "execute_result"
    }
   ],
   "source": [
    "outliers_iqr(poh)"
   ]
  },
  {
   "cell_type": "code",
   "execution_count": 73,
   "metadata": {},
   "outputs": [
    {
     "data": {
      "text/html": [
       "<div>\n",
       "<style scoped>\n",
       "    .dataframe tbody tr th:only-of-type {\n",
       "        vertical-align: middle;\n",
       "    }\n",
       "\n",
       "    .dataframe tbody tr th {\n",
       "        vertical-align: top;\n",
       "    }\n",
       "\n",
       "    .dataframe thead th {\n",
       "        text-align: right;\n",
       "    }\n",
       "</style>\n",
       "<table border=\"1\" class=\"dataframe\">\n",
       "  <thead>\n",
       "    <tr style=\"text-align: right;\">\n",
       "      <th></th>\n",
       "      <th>subject_entity</th>\n",
       "      <th>subject_type</th>\n",
       "      <th>object_entity</th>\n",
       "      <th>object_type</th>\n",
       "      <th>label</th>\n",
       "    </tr>\n",
       "  </thead>\n",
       "  <tbody>\n",
       "    <tr>\n",
       "      <th>30</th>\n",
       "      <td>미국의 소리</td>\n",
       "      <td>ORG</td>\n",
       "      <td>Voice of America</td>\n",
       "      <td>POH</td>\n",
       "      <td>org:alternate_names</td>\n",
       "    </tr>\n",
       "    <tr>\n",
       "      <th>151</th>\n",
       "      <td>KIA 타이거즈</td>\n",
       "      <td>ORG</td>\n",
       "      <td>2009년 한국시리즈</td>\n",
       "      <td>POH</td>\n",
       "      <td>org:member_of</td>\n",
       "    </tr>\n",
       "    <tr>\n",
       "      <th>161</th>\n",
       "      <td>조인철</td>\n",
       "      <td>PER</td>\n",
       "      <td>광주광역시 문화경제부시장</td>\n",
       "      <td>POH</td>\n",
       "      <td>per:title</td>\n",
       "    </tr>\n",
       "    <tr>\n",
       "      <th>393</th>\n",
       "      <td>유은혜</td>\n",
       "      <td>PER</td>\n",
       "      <td>사회부총리 겸 교육부장관</td>\n",
       "      <td>POH</td>\n",
       "      <td>per:title</td>\n",
       "    </tr>\n",
       "    <tr>\n",
       "      <th>903</th>\n",
       "      <td>이문열</td>\n",
       "      <td>PER</td>\n",
       "      <td>우리들의 일그러진 영웅</td>\n",
       "      <td>POH</td>\n",
       "      <td>per:product</td>\n",
       "    </tr>\n",
       "    <tr>\n",
       "      <th>...</th>\n",
       "      <td>...</td>\n",
       "      <td>...</td>\n",
       "      <td>...</td>\n",
       "      <td>...</td>\n",
       "      <td>...</td>\n",
       "    </tr>\n",
       "    <tr>\n",
       "      <th>31716</th>\n",
       "      <td>장성택</td>\n",
       "      <td>PER</td>\n",
       "      <td>조선민주주의인민공화국</td>\n",
       "      <td>POH</td>\n",
       "      <td>per:origin</td>\n",
       "    </tr>\n",
       "    <tr>\n",
       "      <th>32036</th>\n",
       "      <td>LG 트윈스</td>\n",
       "      <td>ORG</td>\n",
       "      <td>서울종합운동장 야구장</td>\n",
       "      <td>POH</td>\n",
       "      <td>no_relation</td>\n",
       "    </tr>\n",
       "    <tr>\n",
       "      <th>32197</th>\n",
       "      <td>김전일</td>\n",
       "      <td>PER</td>\n",
       "      <td>오페라 극장 살인사건</td>\n",
       "      <td>POH</td>\n",
       "      <td>no_relation</td>\n",
       "    </tr>\n",
       "    <tr>\n",
       "      <th>32218</th>\n",
       "      <td>뱅가드 대학교</td>\n",
       "      <td>ORG</td>\n",
       "      <td>라이언스(Lions)</td>\n",
       "      <td>POH</td>\n",
       "      <td>org:members</td>\n",
       "    </tr>\n",
       "    <tr>\n",
       "      <th>32458</th>\n",
       "      <td>스티어 프라이데이 나이트</td>\n",
       "      <td>ORG</td>\n",
       "      <td>Stir Friday Night</td>\n",
       "      <td>POH</td>\n",
       "      <td>org:alternate_names</td>\n",
       "    </tr>\n",
       "  </tbody>\n",
       "</table>\n",
       "<p>164 rows × 5 columns</p>\n",
       "</div>"
      ],
      "text/plain": [
       "      subject_entity subject_type      object_entity object_type  \\\n",
       "30            미국의 소리          ORG   Voice of America         POH   \n",
       "151         KIA 타이거즈          ORG        2009년 한국시리즈         POH   \n",
       "161              조인철          PER      광주광역시 문화경제부시장         POH   \n",
       "393              유은혜          PER      사회부총리 겸 교육부장관         POH   \n",
       "903              이문열          PER       우리들의 일그러진 영웅         POH   \n",
       "...              ...          ...                ...         ...   \n",
       "31716            장성택          PER        조선민주주의인민공화국         POH   \n",
       "32036         LG 트윈스          ORG        서울종합운동장 야구장         POH   \n",
       "32197            김전일          PER        오페라 극장 살인사건         POH   \n",
       "32218        뱅가드 대학교          ORG        라이언스(Lions)         POH   \n",
       "32458  스티어 프라이데이 나이트          ORG  Stir Friday Night         POH   \n",
       "\n",
       "                     label  \n",
       "30     org:alternate_names  \n",
       "151          org:member_of  \n",
       "161              per:title  \n",
       "393              per:title  \n",
       "903            per:product  \n",
       "...                    ...  \n",
       "31716           per:origin  \n",
       "32036          no_relation  \n",
       "32197          no_relation  \n",
       "32218          org:members  \n",
       "32458  org:alternate_names  \n",
       "\n",
       "[164 rows x 5 columns]"
      ]
     },
     "execution_count": 73,
     "metadata": {},
     "output_type": "execute_result"
    }
   ],
   "source": [
    "df_split.loc[outliers_iqr(poh).index, columns]"
   ]
  },
  {
   "cell_type": "markdown",
   "metadata": {},
   "source": [
    "<br><br>\n",
    "\n",
    "#### **NOH : 숫자 표현**"
   ]
  },
  {
   "cell_type": "code",
   "execution_count": 76,
   "metadata": {},
   "outputs": [
    {
     "data": {
      "text/plain": [
       "72               49만 \n",
       "107      031-909-9000\n",
       "109              48kg\n",
       "192               18팀\n",
       "194              500만\n",
       "             ...     \n",
       "32303        홋카이도 제1구\n",
       "32329             13개\n",
       "32356             12개\n",
       "32448             14개\n",
       "32457           1100대\n",
       "Name: object_entity, Length: 392, dtype: object"
      ]
     },
     "execution_count": 76,
     "metadata": {},
     "output_type": "execute_result"
    }
   ],
   "source": [
    "# NOH : 숫자 표현\n",
    "noh = df_split.loc[df_split['object_type'] == 'NOH', 'object_entity']\n",
    "noh"
   ]
  },
  {
   "cell_type": "code",
   "execution_count": 77,
   "metadata": {},
   "outputs": [
    {
     "data": {
      "image/png": "[encoded data removed]",
      "text/plain": [
       "<Figure size 1080x360 with 2 Axes>"
      ]
     },
     "metadata": {},
     "output_type": "display_data"
    }
   ],
   "source": [
    "fig, ax = plt.subplots(1, 2, figsize=(15, 5))\n",
    "\n",
    "fig.suptitle('NOH', fontsize=20)\n",
    "\n",
    "ax[0].hist([len(s) for s in noh.to_list()], bins=50)\n",
    "ax[1].boxplot([len(s) for s in noh.to_list()])\n",
    "ax[1].set_xticklabels(['NOH'])\n",
    "plt.show()"
   ]
  },
  {
   "cell_type": "code",
   "execution_count": 78,
   "metadata": {},
   "outputs": [
    {
     "data": {
      "text/plain": [
       "107                031-909-9000\n",
       "663              KBS 24기 공채 개그맨\n",
       "977                 16·17·18·20\n",
       "1053               031-909-9000\n",
       "3158            1. FFC 투르비네 포츠담\n",
       "5143          031-888-8601~8602\n",
       "7910               제20·21대 국회의원\n",
       "9756            제15·16·17대 국회의원\n",
       "10249         조선인민군 지상군 제4군단사령관\n",
       "11193             031-8075-4488\n",
       "14869              061-286-2452\n",
       "20742    메이레키 원년(1655년 12월 17일)\n",
       "21009               15·16·18·19\n",
       "22658         1읍 9면 10행정동 18법정동\n",
       "23800       서울특별시 영등포구 여의대로 128\n",
       "25780            1. FC 카이저슬라우테른\n",
       "26377             1. FSV 마인츠 05\n",
       "26867            KBS 16기 공채 탤런트\n",
       "29035              대원방송 성우극회 1기\n",
       "29414              031-909-9000\n",
       "Name: object_entity, dtype: object"
      ]
     },
     "execution_count": 78,
     "metadata": {},
     "output_type": "execute_result"
    }
   ],
   "source": [
    "outliers_iqr(noh)"
   ]
  },
  {
   "cell_type": "code",
   "execution_count": 80,
   "metadata": {},
   "outputs": [
    {
     "data": {
      "text/html": [
       "<div>\n",
       "<style scoped>\n",
       "    .dataframe tbody tr th:only-of-type {\n",
       "        vertical-align: middle;\n",
       "    }\n",
       "\n",
       "    .dataframe tbody tr th {\n",
       "        vertical-align: top;\n",
       "    }\n",
       "\n",
       "    .dataframe thead th {\n",
       "        text-align: right;\n",
       "    }\n",
       "</style>\n",
       "<table border=\"1\" class=\"dataframe\">\n",
       "  <thead>\n",
       "    <tr style=\"text-align: right;\">\n",
       "      <th></th>\n",
       "      <th>subject_entity</th>\n",
       "      <th>subject_type</th>\n",
       "      <th>object_entity</th>\n",
       "      <th>object_type</th>\n",
       "      <th>label</th>\n",
       "    </tr>\n",
       "  </thead>\n",
       "  <tbody>\n",
       "    <tr>\n",
       "      <th>107</th>\n",
       "      <td>고양시</td>\n",
       "      <td>ORG</td>\n",
       "      <td>031-909-9000</td>\n",
       "      <td>NOH</td>\n",
       "      <td>no_relation</td>\n",
       "    </tr>\n",
       "    <tr>\n",
       "      <th>663</th>\n",
       "      <td>안소미</td>\n",
       "      <td>PER</td>\n",
       "      <td>KBS 24기 공채 개그맨</td>\n",
       "      <td>NOH</td>\n",
       "      <td>per:title</td>\n",
       "    </tr>\n",
       "    <tr>\n",
       "      <th>977</th>\n",
       "      <td>정진석</td>\n",
       "      <td>PER</td>\n",
       "      <td>16·17·18·20</td>\n",
       "      <td>NOH</td>\n",
       "      <td>no_relation</td>\n",
       "    </tr>\n",
       "    <tr>\n",
       "      <th>1053</th>\n",
       "      <td>고양시</td>\n",
       "      <td>ORG</td>\n",
       "      <td>031-909-9000</td>\n",
       "      <td>NOH</td>\n",
       "      <td>no_relation</td>\n",
       "    </tr>\n",
       "    <tr>\n",
       "      <th>3158</th>\n",
       "      <td>파트미레 알루시</td>\n",
       "      <td>PER</td>\n",
       "      <td>1. FFC 투르비네 포츠담</td>\n",
       "      <td>NOH</td>\n",
       "      <td>per:employee_of</td>\n",
       "    </tr>\n",
       "    <tr>\n",
       "      <th>5143</th>\n",
       "      <td>경기도경제과학진흥원 창업지원팀</td>\n",
       "      <td>ORG</td>\n",
       "      <td>031-888-8601~8602</td>\n",
       "      <td>NOH</td>\n",
       "      <td>no_relation</td>\n",
       "    </tr>\n",
       "    <tr>\n",
       "      <th>7910</th>\n",
       "      <td>정운천</td>\n",
       "      <td>PER</td>\n",
       "      <td>제20·21대 국회의원</td>\n",
       "      <td>NOH</td>\n",
       "      <td>no_relation</td>\n",
       "    </tr>\n",
       "    <tr>\n",
       "      <th>9756</th>\n",
       "      <td>김홍일</td>\n",
       "      <td>PER</td>\n",
       "      <td>제15·16·17대 국회의원</td>\n",
       "      <td>NOH</td>\n",
       "      <td>per:title</td>\n",
       "    </tr>\n",
       "    <tr>\n",
       "      <th>10249</th>\n",
       "      <td>변인선</td>\n",
       "      <td>PER</td>\n",
       "      <td>조선인민군 지상군 제4군단사령관</td>\n",
       "      <td>NOH</td>\n",
       "      <td>per:title</td>\n",
       "    </tr>\n",
       "    <tr>\n",
       "      <th>11193</th>\n",
       "      <td>고양시상하수도사업소 당직실</td>\n",
       "      <td>ORG</td>\n",
       "      <td>031-8075-4488</td>\n",
       "      <td>NOH</td>\n",
       "      <td>no_relation</td>\n",
       "    </tr>\n",
       "    <tr>\n",
       "      <th>14869</th>\n",
       "      <td>전라남도 국제협력관실</td>\n",
       "      <td>ORG</td>\n",
       "      <td>061-286-2452</td>\n",
       "      <td>NOH</td>\n",
       "      <td>no_relation</td>\n",
       "    </tr>\n",
       "    <tr>\n",
       "      <th>20742</th>\n",
       "      <td>우키타 히데이에</td>\n",
       "      <td>PER</td>\n",
       "      <td>메이레키 원년(1655년 12월 17일)</td>\n",
       "      <td>NOH</td>\n",
       "      <td>per:date_of_death</td>\n",
       "    </tr>\n",
       "    <tr>\n",
       "      <th>21009</th>\n",
       "      <td>김영환</td>\n",
       "      <td>PER</td>\n",
       "      <td>15·16·18·19</td>\n",
       "      <td>NOH</td>\n",
       "      <td>no_relation</td>\n",
       "    </tr>\n",
       "    <tr>\n",
       "      <th>22658</th>\n",
       "      <td>세종특별자치시</td>\n",
       "      <td>ORG</td>\n",
       "      <td>1읍 9면 10행정동 18법정동</td>\n",
       "      <td>NOH</td>\n",
       "      <td>no_relation</td>\n",
       "    </tr>\n",
       "    <tr>\n",
       "      <th>23800</th>\n",
       "      <td>LG화학</td>\n",
       "      <td>ORG</td>\n",
       "      <td>서울특별시 영등포구 여의대로 128</td>\n",
       "      <td>NOH</td>\n",
       "      <td>org:place_of_headquarters</td>\n",
       "    </tr>\n",
       "    <tr>\n",
       "      <th>25780</th>\n",
       "      <td>빌리 오르반</td>\n",
       "      <td>PER</td>\n",
       "      <td>1. FC 카이저슬라우테른</td>\n",
       "      <td>NOH</td>\n",
       "      <td>per:employee_of</td>\n",
       "    </tr>\n",
       "    <tr>\n",
       "      <th>26377</th>\n",
       "      <td>로만 노이슈테터</td>\n",
       "      <td>PER</td>\n",
       "      <td>1. FSV 마인츠 05</td>\n",
       "      <td>NOH</td>\n",
       "      <td>per:employee_of</td>\n",
       "    </tr>\n",
       "    <tr>\n",
       "      <th>26867</th>\n",
       "      <td>김서형</td>\n",
       "      <td>PER</td>\n",
       "      <td>KBS 16기 공채 탤런트</td>\n",
       "      <td>NOH</td>\n",
       "      <td>per:title</td>\n",
       "    </tr>\n",
       "    <tr>\n",
       "      <th>29035</th>\n",
       "      <td>최낙윤</td>\n",
       "      <td>PER</td>\n",
       "      <td>대원방송 성우극회 1기</td>\n",
       "      <td>NOH</td>\n",
       "      <td>per:origin</td>\n",
       "    </tr>\n",
       "    <tr>\n",
       "      <th>29414</th>\n",
       "      <td>고양시</td>\n",
       "      <td>ORG</td>\n",
       "      <td>031-909-9000</td>\n",
       "      <td>NOH</td>\n",
       "      <td>no_relation</td>\n",
       "    </tr>\n",
       "  </tbody>\n",
       "</table>\n",
       "</div>"
      ],
      "text/plain": [
       "         subject_entity subject_type           object_entity object_type  \\\n",
       "107                 고양시          ORG            031-909-9000         NOH   \n",
       "663                 안소미          PER          KBS 24기 공채 개그맨         NOH   \n",
       "977                 정진석          PER             16·17·18·20         NOH   \n",
       "1053                고양시          ORG            031-909-9000         NOH   \n",
       "3158           파트미레 알루시          PER         1. FFC 투르비네 포츠담         NOH   \n",
       "5143   경기도경제과학진흥원 창업지원팀          ORG       031-888-8601~8602         NOH   \n",
       "7910                정운천          PER            제20·21대 국회의원         NOH   \n",
       "9756                김홍일          PER         제15·16·17대 국회의원         NOH   \n",
       "10249               변인선          PER       조선인민군 지상군 제4군단사령관         NOH   \n",
       "11193    고양시상하수도사업소 당직실          ORG           031-8075-4488         NOH   \n",
       "14869       전라남도 국제협력관실          ORG            061-286-2452         NOH   \n",
       "20742          우키타 히데이에          PER  메이레키 원년(1655년 12월 17일)         NOH   \n",
       "21009               김영환          PER             15·16·18·19         NOH   \n",
       "22658           세종특별자치시          ORG       1읍 9면 10행정동 18법정동         NOH   \n",
       "23800              LG화학          ORG     서울특별시 영등포구 여의대로 128         NOH   \n",
       "25780            빌리 오르반          PER          1. FC 카이저슬라우테른         NOH   \n",
       "26377          로만 노이슈테터          PER           1. FSV 마인츠 05         NOH   \n",
       "26867               김서형          PER          KBS 16기 공채 탤런트         NOH   \n",
       "29035               최낙윤          PER            대원방송 성우극회 1기         NOH   \n",
       "29414               고양시          ORG            031-909-9000         NOH   \n",
       "\n",
       "                           label  \n",
       "107                  no_relation  \n",
       "663                    per:title  \n",
       "977                  no_relation  \n",
       "1053                 no_relation  \n",
       "3158             per:employee_of  \n",
       "5143                 no_relation  \n",
       "7910                 no_relation  \n",
       "9756                   per:title  \n",
       "10249                  per:title  \n",
       "11193                no_relation  \n",
       "14869                no_relation  \n",
       "20742          per:date_of_death  \n",
       "21009                no_relation  \n",
       "22658                no_relation  \n",
       "23800  org:place_of_headquarters  \n",
       "25780            per:employee_of  \n",
       "26377            per:employee_of  \n",
       "26867                  per:title  \n",
       "29035                 per:origin  \n",
       "29414                no_relation  "
      ]
     },
     "execution_count": 80,
     "metadata": {},
     "output_type": "execute_result"
    }
   ],
   "source": [
    "df_split.loc[outliers_iqr(noh).index, columns]"
   ]
  }
 ],
 "metadata": {
  "kernelspec": {
   "display_name": "Python 3.10.4 64-bit",
   "language": "python",
   "name": "python3"
  },
  "language_info": {
   "codemirror_mode": {
    "name": "ipython",
    "version": 3
   },
   "file_extension": ".py",
   "mimetype": "text/x-python",
   "name": "python",
   "nbconvert_exporter": "python",
   "pygments_lexer": "ipython3",
   "version": "3.10.4"
  },
  "vscode": {
   "interpreter": {
    "hash": "f5a18889cc6b7f76c420655abc041ad8b7b9d4aa335e87c2cbfef404da75cf62"
   }
  }
 },
 "nbformat": 4,
 "nbformat_minor": 4
}

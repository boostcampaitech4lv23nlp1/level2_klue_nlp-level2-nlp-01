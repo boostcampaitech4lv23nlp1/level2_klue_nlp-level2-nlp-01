{
 "cells": [
  {
   "cell_type": "code",
   "execution_count": 2,
   "metadata": {},
   "outputs": [],
   "source": [
    "import pandas as pd"
   ]
  },
  {
   "cell_type": "code",
   "execution_count": 4,
   "metadata": {},
   "outputs": [],
   "source": [
    "binary = pd.read_csv('output_binary_new.csv')\n",
    "multiple = pd.read_csv('output.csv')"
   ]
  },
  {
   "cell_type": "code",
   "execution_count": 5,
   "metadata": {},
   "outputs": [],
   "source": [
    "all_data = pd.concat([binary, multiple], axis = 1)"
   ]
  },
  {
   "cell_type": "code",
   "execution_count": 6,
   "metadata": {},
   "outputs": [
    {
     "data": {
      "text/html": [
       "<div>\n",
       "<style scoped>\n",
       "    .dataframe tbody tr th:only-of-type {\n",
       "        vertical-align: middle;\n",
       "    }\n",
       "\n",
       "    .dataframe tbody tr th {\n",
       "        vertical-align: top;\n",
       "    }\n",
       "\n",
       "    .dataframe thead th {\n",
       "        text-align: right;\n",
       "    }\n",
       "</style>\n",
       "<table border=\"1\" class=\"dataframe\">\n",
       "  <thead>\n",
       "    <tr style=\"text-align: right;\">\n",
       "      <th></th>\n",
       "      <th>id</th>\n",
       "      <th>binary_label</th>\n",
       "      <th>logits</th>\n",
       "      <th>id</th>\n",
       "      <th>pred_label</th>\n",
       "      <th>probs</th>\n",
       "    </tr>\n",
       "  </thead>\n",
       "  <tbody>\n",
       "    <tr>\n",
       "      <th>0</th>\n",
       "      <td>0</td>\n",
       "      <td>0.926270</td>\n",
       "      <td>[2.533203125]</td>\n",
       "      <td>0</td>\n",
       "      <td>org:product</td>\n",
       "      <td>[0.0063857264, 0.40840867, 0.5538843, 0.000334...</td>\n",
       "    </tr>\n",
       "    <tr>\n",
       "      <th>1</th>\n",
       "      <td>1</td>\n",
       "      <td>0.963379</td>\n",
       "      <td>[3.267578125]</td>\n",
       "      <td>1</td>\n",
       "      <td>per:alternate_names</td>\n",
       "      <td>[9.7666714e-05, 6.195962e-05, 0.00049088773, 0...</td>\n",
       "    </tr>\n",
       "    <tr>\n",
       "      <th>2</th>\n",
       "      <td>2</td>\n",
       "      <td>0.019501</td>\n",
       "      <td>[-3.91796875]</td>\n",
       "      <td>2</td>\n",
       "      <td>org:dissolved</td>\n",
       "      <td>[0.0004744309, 0.0011020082, 0.0013889936, 0.0...</td>\n",
       "    </tr>\n",
       "    <tr>\n",
       "      <th>3</th>\n",
       "      <td>3</td>\n",
       "      <td>0.239380</td>\n",
       "      <td>[-1.15625]</td>\n",
       "      <td>3</td>\n",
       "      <td>per:colleagues</td>\n",
       "      <td>[0.0007278557, 0.000582284, 0.000521956, 0.000...</td>\n",
       "    </tr>\n",
       "    <tr>\n",
       "      <th>4</th>\n",
       "      <td>4</td>\n",
       "      <td>0.236206</td>\n",
       "      <td>[-1.173828125]</td>\n",
       "      <td>4</td>\n",
       "      <td>org:top_members/employees</td>\n",
       "      <td>[0.9993125, 2.3765786e-05, 2.123795e-05, 2.010...</td>\n",
       "    </tr>\n",
       "    <tr>\n",
       "      <th>...</th>\n",
       "      <td>...</td>\n",
       "      <td>...</td>\n",
       "      <td>...</td>\n",
       "      <td>...</td>\n",
       "      <td>...</td>\n",
       "      <td>...</td>\n",
       "    </tr>\n",
       "    <tr>\n",
       "      <th>7760</th>\n",
       "      <td>7760</td>\n",
       "      <td>0.749512</td>\n",
       "      <td>[1.095703125]</td>\n",
       "      <td>7760</td>\n",
       "      <td>org:place_of_headquarters</td>\n",
       "      <td>[0.0011349657, 0.004939705, 0.0003426033, 5.73...</td>\n",
       "    </tr>\n",
       "    <tr>\n",
       "      <th>7761</th>\n",
       "      <td>7761</td>\n",
       "      <td>0.032104</td>\n",
       "      <td>[-3.40625]</td>\n",
       "      <td>7761</td>\n",
       "      <td>org:dissolved</td>\n",
       "      <td>[0.01645539, 0.024606159, 0.25740558, 0.001950...</td>\n",
       "    </tr>\n",
       "    <tr>\n",
       "      <th>7762</th>\n",
       "      <td>7762</td>\n",
       "      <td>0.999512</td>\n",
       "      <td>[7.3984375]</td>\n",
       "      <td>7762</td>\n",
       "      <td>org:top_members/employees</td>\n",
       "      <td>[0.99937063, 2.1507914e-05, 1.8593111e-05, 8.5...</td>\n",
       "    </tr>\n",
       "    <tr>\n",
       "      <th>7763</th>\n",
       "      <td>7763</td>\n",
       "      <td>0.912109</td>\n",
       "      <td>[2.341796875]</td>\n",
       "      <td>7763</td>\n",
       "      <td>per:date_of_death</td>\n",
       "      <td>[0.00016173259, 0.00024903286, 0.0011071321, 0...</td>\n",
       "    </tr>\n",
       "    <tr>\n",
       "      <th>7764</th>\n",
       "      <td>7764</td>\n",
       "      <td>0.020447</td>\n",
       "      <td>[-3.869140625]</td>\n",
       "      <td>7764</td>\n",
       "      <td>per:date_of_death</td>\n",
       "      <td>[0.00025422452, 0.00010224062, 0.00013764699, ...</td>\n",
       "    </tr>\n",
       "  </tbody>\n",
       "</table>\n",
       "<p>7765 rows × 6 columns</p>\n",
       "</div>"
      ],
      "text/plain": [
       "        id  binary_label          logits    id                 pred_label  \\\n",
       "0        0      0.926270   [2.533203125]     0                org:product   \n",
       "1        1      0.963379   [3.267578125]     1        per:alternate_names   \n",
       "2        2      0.019501   [-3.91796875]     2              org:dissolved   \n",
       "3        3      0.239380      [-1.15625]     3             per:colleagues   \n",
       "4        4      0.236206  [-1.173828125]     4  org:top_members/employees   \n",
       "...    ...           ...             ...   ...                        ...   \n",
       "7760  7760      0.749512   [1.095703125]  7760  org:place_of_headquarters   \n",
       "7761  7761      0.032104      [-3.40625]  7761              org:dissolved   \n",
       "7762  7762      0.999512     [7.3984375]  7762  org:top_members/employees   \n",
       "7763  7763      0.912109   [2.341796875]  7763          per:date_of_death   \n",
       "7764  7764      0.020447  [-3.869140625]  7764          per:date_of_death   \n",
       "\n",
       "                                                  probs  \n",
       "0     [0.0063857264, 0.40840867, 0.5538843, 0.000334...  \n",
       "1     [9.7666714e-05, 6.195962e-05, 0.00049088773, 0...  \n",
       "2     [0.0004744309, 0.0011020082, 0.0013889936, 0.0...  \n",
       "3     [0.0007278557, 0.000582284, 0.000521956, 0.000...  \n",
       "4     [0.9993125, 2.3765786e-05, 2.123795e-05, 2.010...  \n",
       "...                                                 ...  \n",
       "7760  [0.0011349657, 0.004939705, 0.0003426033, 5.73...  \n",
       "7761  [0.01645539, 0.024606159, 0.25740558, 0.001950...  \n",
       "7762  [0.99937063, 2.1507914e-05, 1.8593111e-05, 8.5...  \n",
       "7763  [0.00016173259, 0.00024903286, 0.0011071321, 0...  \n",
       "7764  [0.00025422452, 0.00010224062, 0.00013764699, ...  \n",
       "\n",
       "[7765 rows x 6 columns]"
      ]
     },
     "execution_count": 6,
     "metadata": {},
     "output_type": "execute_result"
    }
   ],
   "source": [
    "all_data"
   ]
  },
  {
   "cell_type": "code",
   "execution_count": 35,
   "metadata": {},
   "outputs": [],
   "source": [
    "new_label = []\n",
    "new_probs = []\n",
    "\n",
    "no_probs = [0]*30\n",
    "no_probs[0] = 1"
   ]
  },
  {
   "cell_type": "code",
   "execution_count": 36,
   "metadata": {},
   "outputs": [],
   "source": [
    "for i in range(len(all_data)):\n",
    "    if all_data.iloc[i]['binary_label'] < 0.5:\n",
    "        new_label.append('no_relation')\n",
    "        no_probs = [1-all_data.iloc[i]['binary_label']]\n",
    "        tmp = [round((all_data.iloc[i]['binary_label'])/29, 12)] * 29\n",
    "        no_probs.extend(tmp)\n",
    "        new_probs.append(no_probs)\n",
    "    else:\n",
    "        new_label.append(all_data.iloc[i]['pred_label'])\n",
    "        # print(type(eval(all_data.iloc[i,4])))\n",
    "        tmp = eval(all_data.iloc[i,5])\n",
    "        # print(tmp)\n",
    "        tmp.insert(0,0)\n",
    "        new_probs.append(tmp)\n",
    "        # all_data.iloc[i]['new_label'] = all_data.iloc[i]['pred_label']\n",
    "        # all_data.iloc[i]['new_probs'] = [0]\n",
    "        # all_data.iloc[i]['new_probs'] = all_data.iloc[i]['new_probs'].extend(all_data.iloc[i]['probs'])"
   ]
  },
  {
   "cell_type": "code",
   "execution_count": 37,
   "metadata": {},
   "outputs": [
    {
     "name": "stdout",
     "output_type": "stream",
     "text": [
      "7765\n",
      "7765\n"
     ]
    }
   ],
   "source": [
    "print(len(new_label))\n",
    "print(len(new_probs))"
   ]
  },
  {
   "cell_type": "code",
   "execution_count": 38,
   "metadata": {},
   "outputs": [],
   "source": [
    "all_df = [new_label, new_probs]"
   ]
  },
  {
   "cell_type": "code",
   "execution_count": 39,
   "metadata": {},
   "outputs": [],
   "source": [
    "all_df = pd.DataFrame(all_df).T"
   ]
  },
  {
   "cell_type": "code",
   "execution_count": 40,
   "metadata": {},
   "outputs": [],
   "source": [
    "all_df = all_df.reset_index()"
   ]
  },
  {
   "cell_type": "code",
   "execution_count": 41,
   "metadata": {},
   "outputs": [
    {
     "data": {
      "text/html": [
       "<div>\n",
       "<style scoped>\n",
       "    .dataframe tbody tr th:only-of-type {\n",
       "        vertical-align: middle;\n",
       "    }\n",
       "\n",
       "    .dataframe tbody tr th {\n",
       "        vertical-align: top;\n",
       "    }\n",
       "\n",
       "    .dataframe thead th {\n",
       "        text-align: right;\n",
       "    }\n",
       "</style>\n",
       "<table border=\"1\" class=\"dataframe\">\n",
       "  <thead>\n",
       "    <tr style=\"text-align: right;\">\n",
       "      <th></th>\n",
       "      <th>index</th>\n",
       "      <th>0</th>\n",
       "      <th>1</th>\n",
       "    </tr>\n",
       "  </thead>\n",
       "  <tbody>\n",
       "    <tr>\n",
       "      <th>0</th>\n",
       "      <td>0</td>\n",
       "      <td>org:product</td>\n",
       "      <td>[0, 0.0063857264, 0.40840867, 0.5538843, 0.000...</td>\n",
       "    </tr>\n",
       "    <tr>\n",
       "      <th>1</th>\n",
       "      <td>1</td>\n",
       "      <td>per:alternate_names</td>\n",
       "      <td>[0, 9.7666714e-05, 6.195962e-05, 0.00049088773...</td>\n",
       "    </tr>\n",
       "    <tr>\n",
       "      <th>2</th>\n",
       "      <td>2</td>\n",
       "      <td>no_relation</td>\n",
       "      <td>[0.980499267578125, 0.000672439049, 0.00067243...</td>\n",
       "    </tr>\n",
       "    <tr>\n",
       "      <th>3</th>\n",
       "      <td>3</td>\n",
       "      <td>no_relation</td>\n",
       "      <td>[0.7606201171875, 0.008254478718, 0.0082544787...</td>\n",
       "    </tr>\n",
       "    <tr>\n",
       "      <th>4</th>\n",
       "      <td>4</td>\n",
       "      <td>no_relation</td>\n",
       "      <td>[0.7637939453125, 0.008145036369, 0.0081450363...</td>\n",
       "    </tr>\n",
       "    <tr>\n",
       "      <th>...</th>\n",
       "      <td>...</td>\n",
       "      <td>...</td>\n",
       "      <td>...</td>\n",
       "    </tr>\n",
       "    <tr>\n",
       "      <th>7760</th>\n",
       "      <td>7760</td>\n",
       "      <td>org:place_of_headquarters</td>\n",
       "      <td>[0, 0.0011349657, 0.004939705, 0.0003426033, 5...</td>\n",
       "    </tr>\n",
       "    <tr>\n",
       "      <th>7761</th>\n",
       "      <td>7761</td>\n",
       "      <td>no_relation</td>\n",
       "      <td>[0.9678955078125, 0.001107051455, 0.0011070514...</td>\n",
       "    </tr>\n",
       "    <tr>\n",
       "      <th>7762</th>\n",
       "      <td>7762</td>\n",
       "      <td>org:top_members/employees</td>\n",
       "      <td>[0, 0.99937063, 2.1507914e-05, 1.8593111e-05, ...</td>\n",
       "    </tr>\n",
       "    <tr>\n",
       "      <th>7763</th>\n",
       "      <td>7763</td>\n",
       "      <td>per:date_of_death</td>\n",
       "      <td>[0, 0.00016173259, 0.00024903286, 0.0011071321...</td>\n",
       "    </tr>\n",
       "    <tr>\n",
       "      <th>7764</th>\n",
       "      <td>7764</td>\n",
       "      <td>no_relation</td>\n",
       "      <td>[0.97955322265625, 0.000705061288, 0.000705061...</td>\n",
       "    </tr>\n",
       "  </tbody>\n",
       "</table>\n",
       "<p>7765 rows × 3 columns</p>\n",
       "</div>"
      ],
      "text/plain": [
       "      index                          0  \\\n",
       "0         0                org:product   \n",
       "1         1        per:alternate_names   \n",
       "2         2                no_relation   \n",
       "3         3                no_relation   \n",
       "4         4                no_relation   \n",
       "...     ...                        ...   \n",
       "7760   7760  org:place_of_headquarters   \n",
       "7761   7761                no_relation   \n",
       "7762   7762  org:top_members/employees   \n",
       "7763   7763          per:date_of_death   \n",
       "7764   7764                no_relation   \n",
       "\n",
       "                                                      1  \n",
       "0     [0, 0.0063857264, 0.40840867, 0.5538843, 0.000...  \n",
       "1     [0, 9.7666714e-05, 6.195962e-05, 0.00049088773...  \n",
       "2     [0.980499267578125, 0.000672439049, 0.00067243...  \n",
       "3     [0.7606201171875, 0.008254478718, 0.0082544787...  \n",
       "4     [0.7637939453125, 0.008145036369, 0.0081450363...  \n",
       "...                                                 ...  \n",
       "7760  [0, 0.0011349657, 0.004939705, 0.0003426033, 5...  \n",
       "7761  [0.9678955078125, 0.001107051455, 0.0011070514...  \n",
       "7762  [0, 0.99937063, 2.1507914e-05, 1.8593111e-05, ...  \n",
       "7763  [0, 0.00016173259, 0.00024903286, 0.0011071321...  \n",
       "7764  [0.97955322265625, 0.000705061288, 0.000705061...  \n",
       "\n",
       "[7765 rows x 3 columns]"
      ]
     },
     "execution_count": 41,
     "metadata": {},
     "output_type": "execute_result"
    }
   ],
   "source": [
    "all_df"
   ]
  },
  {
   "cell_type": "code",
   "execution_count": 42,
   "metadata": {},
   "outputs": [],
   "source": [
    "all_df.columns = ['id','pred_label', 'probs']"
   ]
  },
  {
   "cell_type": "code",
   "execution_count": 43,
   "metadata": {},
   "outputs": [],
   "source": [
    "all_df.to_csv('output_new1.csv')"
   ]
  },
  {
   "cell_type": "code",
   "execution_count": null,
   "metadata": {},
   "outputs": [],
   "source": []
  }
 ],
 "metadata": {
  "kernelspec": {
   "display_name": "Python 3.8.13 ('venv')",
   "language": "python",
   "name": "python3"
  },
  "language_info": {
   "codemirror_mode": {
    "name": "ipython",
    "version": 3
   },
   "file_extension": ".py",
   "mimetype": "text/x-python",
   "name": "python",
   "nbconvert_exporter": "python",
   "pygments_lexer": "ipython3",
   "version": "3.8.13"
  },
  "orig_nbformat": 4,
  "vscode": {
   "interpreter": {
    "hash": "ec5511c57591959bfe383097d4c77eeb724c9a6ac951d9eef9284c9544b2033b"
   }
  }
 },
 "nbformat": 4,
 "nbformat_minor": 2
}

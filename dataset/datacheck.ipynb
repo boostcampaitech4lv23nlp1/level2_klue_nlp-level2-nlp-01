{
 "cells": [
  {
   "cell_type": "code",
   "execution_count": 2,
   "metadata": {},
   "outputs": [],
   "source": [
    "import pandas as pd"
   ]
  },
  {
   "cell_type": "code",
   "execution_count": 3,
   "metadata": {},
   "outputs": [],
   "source": [
    "train_data = pd.read_csv('/opt/ml/level2_klue_nlp-level2-nlp-01/dataset/train/train.csv')\n",
    "test_data = pd.read_csv('/opt/ml/level2_klue_nlp-level2-nlp-01/dataset/test/test_data.csv')"
   ]
  },
  {
   "cell_type": "code",
   "execution_count": 4,
   "metadata": {},
   "outputs": [
    {
     "data": {
      "text/html": [
       "<div>\n",
       "<style scoped>\n",
       "    .dataframe tbody tr th:only-of-type {\n",
       "        vertical-align: middle;\n",
       "    }\n",
       "\n",
       "    .dataframe tbody tr th {\n",
       "        vertical-align: top;\n",
       "    }\n",
       "\n",
       "    .dataframe thead th {\n",
       "        text-align: right;\n",
       "    }\n",
       "</style>\n",
       "<table border=\"1\" class=\"dataframe\">\n",
       "  <thead>\n",
       "    <tr style=\"text-align: right;\">\n",
       "      <th></th>\n",
       "      <th>id</th>\n",
       "      <th>sentence</th>\n",
       "      <th>subject_entity</th>\n",
       "      <th>object_entity</th>\n",
       "      <th>label</th>\n",
       "      <th>source</th>\n",
       "    </tr>\n",
       "  </thead>\n",
       "  <tbody>\n",
       "    <tr>\n",
       "      <th>32455</th>\n",
       "      <td>32455</td>\n",
       "      <td>김홍균 연구원은 “일회성 손익으로 영업단에 신규 수주호선 및 공사손실충당금 118억...</td>\n",
       "      <td>{'word': '비나신', 'start_idx': 79, 'end_idx': 81...</td>\n",
       "      <td>{'word': '베트남', 'start_idx': 73, 'end_idx': 75...</td>\n",
       "      <td>org:place_of_headquarters</td>\n",
       "      <td>wikitree</td>\n",
       "    </tr>\n",
       "    <tr>\n",
       "      <th>32456</th>\n",
       "      <td>32456</td>\n",
       "      <td>신대철(申大澈, 1967년 2월 16일 ~)은 대한민국의 음악가이다.</td>\n",
       "      <td>{'word': '신대철', 'start_idx': 0, 'end_idx': 2, ...</td>\n",
       "      <td>{'word': '1967년 2월 16일', 'start_idx': 9, 'end_...</td>\n",
       "      <td>per:date_of_birth</td>\n",
       "      <td>wikipedia</td>\n",
       "    </tr>\n",
       "    <tr>\n",
       "      <th>32457</th>\n",
       "      <td>32457</td>\n",
       "      <td>21일 정읍시에 따르면 올해 노후 경유차 조기 폐차 지원사업으로 예산 17억6880...</td>\n",
       "      <td>{'word': '정읍시', 'start_idx': 4, 'end_idx': 6, ...</td>\n",
       "      <td>{'word': '1100대', 'start_idx': 61, 'end_idx': ...</td>\n",
       "      <td>no_relation</td>\n",
       "      <td>wikitree</td>\n",
       "    </tr>\n",
       "    <tr>\n",
       "      <th>32458</th>\n",
       "      <td>32458</td>\n",
       "      <td>대학 졸업 직후, 그는 '스티어 프라이데이 나이트(Stir Friday Night)...</td>\n",
       "      <td>{'word': '스티어 프라이데이 나이트', 'start_idx': 14, 'en...</td>\n",
       "      <td>{'word': 'Stir Friday Night', 'start_idx': 28,...</td>\n",
       "      <td>org:alternate_names</td>\n",
       "      <td>wikipedia</td>\n",
       "    </tr>\n",
       "    <tr>\n",
       "      <th>32459</th>\n",
       "      <td>32459</td>\n",
       "      <td>메이저 리그 10승 경력을 높이 사서, 2011년 12월 2일 삼성 라이온즈에 영입...</td>\n",
       "      <td>{'word': '삼성 라이온즈', 'start_idx': 35, 'end_idx'...</td>\n",
       "      <td>{'word': '2011년', 'start_idx': 22, 'end_idx': ...</td>\n",
       "      <td>no_relation</td>\n",
       "      <td>wikipedia</td>\n",
       "    </tr>\n",
       "    <tr>\n",
       "      <th>32460</th>\n",
       "      <td>32460</td>\n",
       "      <td>위광환 전라남도 해양수산국장은 “지난 3차례 스마트양식 클러스터 조성 공모를 통해 ...</td>\n",
       "      <td>{'word': '영광군', 'start_idx': 72, 'end_idx': 74...</td>\n",
       "      <td>{'word': '전라남도', 'start_idx': 4, 'end_idx': 7,...</td>\n",
       "      <td>no_relation</td>\n",
       "      <td>wikitree</td>\n",
       "    </tr>\n",
       "    <tr>\n",
       "      <th>32461</th>\n",
       "      <td>32461</td>\n",
       "      <td>1852년 미국 대통령 선거에서 휘그당은 미국-멕시코 전쟁의 영웅 테일러 장군의 사...</td>\n",
       "      <td>{'word': '밀러드 필모어', 'start_idx': 66, 'end_idx'...</td>\n",
       "      <td>{'word': '휘그당', 'start_idx': 18, 'end_idx': 20...</td>\n",
       "      <td>per:employee_of</td>\n",
       "      <td>wikipedia</td>\n",
       "    </tr>\n",
       "    <tr>\n",
       "      <th>32462</th>\n",
       "      <td>32462</td>\n",
       "      <td>심지어 전용 연습구장도 없어 훈련을 여러 지역을 돌아다니며 해야 할 정도로 팀 사정...</td>\n",
       "      <td>{'word': '방승환', 'start_idx': 85, 'end_idx': 87...</td>\n",
       "      <td>{'word': '공격수', 'start_idx': 94, 'end_idx': 96...</td>\n",
       "      <td>no_relation</td>\n",
       "      <td>wikipedia</td>\n",
       "    </tr>\n",
       "    <tr>\n",
       "      <th>32463</th>\n",
       "      <td>32463</td>\n",
       "      <td>그의 외삼촌은 루이 13세로, 남편인 루이 14세는 외사촌 오빠가 된다.</td>\n",
       "      <td>{'word': '루이 14세', 'start_idx': 21, 'end_idx':...</td>\n",
       "      <td>{'word': '루이 13세', 'start_idx': 8, 'end_idx': ...</td>\n",
       "      <td>per:other_family</td>\n",
       "      <td>wikipedia</td>\n",
       "    </tr>\n",
       "    <tr>\n",
       "      <th>32464</th>\n",
       "      <td>32464</td>\n",
       "      <td>KIA타이거즈 외야수 이창진이 롯데백화점 광주점이 시상하는 9월 월간 MVP에 선정...</td>\n",
       "      <td>{'word': '이창진', 'start_idx': 12, 'end_idx': 14...</td>\n",
       "      <td>{'word': '외야수', 'start_idx': 8, 'end_idx': 10,...</td>\n",
       "      <td>per:title</td>\n",
       "      <td>wikitree</td>\n",
       "    </tr>\n",
       "    <tr>\n",
       "      <th>32465</th>\n",
       "      <td>32465</td>\n",
       "      <td>한국당은 7일 오전 9시부터 오후 5시까지 진행된 원내대표 및 정책위의장 후보자 등...</td>\n",
       "      <td>{'word': '유기준', 'start_idx': 93, 'end_idx': 95...</td>\n",
       "      <td>{'word': '부산 서구·동구', 'start_idx': 100, 'end_id...</td>\n",
       "      <td>per:employee_of</td>\n",
       "      <td>wikitree</td>\n",
       "    </tr>\n",
       "    <tr>\n",
       "      <th>32466</th>\n",
       "      <td>32466</td>\n",
       "      <td>법포는 다시 최시형, 서병학, 손병희 직계인 북접과 다시 서장옥, 전봉준, 김개남을...</td>\n",
       "      <td>{'word': '최시형', 'start_idx': 7, 'end_idx': 9, ...</td>\n",
       "      <td>{'word': '손병희', 'start_idx': 17, 'end_idx': 19...</td>\n",
       "      <td>per:colleagues</td>\n",
       "      <td>wikipedia</td>\n",
       "    </tr>\n",
       "    <tr>\n",
       "      <th>32467</th>\n",
       "      <td>32467</td>\n",
       "      <td>완도군(군수 신우철)이 국토교통부에서 실시한 '2019 교통문화지수 실태조사'에서 ...</td>\n",
       "      <td>{'word': '완도군', 'start_idx': 0, 'end_idx': 2, ...</td>\n",
       "      <td>{'word': '신우철', 'start_idx': 7, 'end_idx': 9, ...</td>\n",
       "      <td>org:top_members/employees</td>\n",
       "      <td>wikitree</td>\n",
       "    </tr>\n",
       "    <tr>\n",
       "      <th>32468</th>\n",
       "      <td>32468</td>\n",
       "      <td>중앙일보, JTBC 회장을 지낸 이후 중앙홀딩스 회장, 재단법인 한반도평화만들기 이...</td>\n",
       "      <td>{'word': 'JTBC', 'start_idx': 6, 'end_idx': 9,...</td>\n",
       "      <td>{'word': '중앙홀딩스', 'start_idx': 21, 'end_idx': ...</td>\n",
       "      <td>no_relation</td>\n",
       "      <td>wikipedia</td>\n",
       "    </tr>\n",
       "    <tr>\n",
       "      <th>32469</th>\n",
       "      <td>32469</td>\n",
       "      <td>화순군(군수 구충곤)은 17일 동면의 이장 20여 명이 코로나 19 예방을 위해 버...</td>\n",
       "      <td>{'word': '화순군', 'start_idx': 0, 'end_idx': 2, ...</td>\n",
       "      <td>{'word': '구충곤', 'start_idx': 7, 'end_idx': 9, ...</td>\n",
       "      <td>org:top_members/employees</td>\n",
       "      <td>wikitree</td>\n",
       "    </tr>\n",
       "  </tbody>\n",
       "</table>\n",
       "</div>"
      ],
      "text/plain": [
       "          id                                           sentence  \\\n",
       "32455  32455  김홍균 연구원은 “일회성 손익으로 영업단에 신규 수주호선 및 공사손실충당금 118억...   \n",
       "32456  32456             신대철(申大澈, 1967년 2월 16일 ~)은 대한민국의 음악가이다.   \n",
       "32457  32457  21일 정읍시에 따르면 올해 노후 경유차 조기 폐차 지원사업으로 예산 17억6880...   \n",
       "32458  32458  대학 졸업 직후, 그는 '스티어 프라이데이 나이트(Stir Friday Night)...   \n",
       "32459  32459  메이저 리그 10승 경력을 높이 사서, 2011년 12월 2일 삼성 라이온즈에 영입...   \n",
       "32460  32460  위광환 전라남도 해양수산국장은 “지난 3차례 스마트양식 클러스터 조성 공모를 통해 ...   \n",
       "32461  32461  1852년 미국 대통령 선거에서 휘그당은 미국-멕시코 전쟁의 영웅 테일러 장군의 사...   \n",
       "32462  32462  심지어 전용 연습구장도 없어 훈련을 여러 지역을 돌아다니며 해야 할 정도로 팀 사정...   \n",
       "32463  32463           그의 외삼촌은 루이 13세로, 남편인 루이 14세는 외사촌 오빠가 된다.   \n",
       "32464  32464  KIA타이거즈 외야수 이창진이 롯데백화점 광주점이 시상하는 9월 월간 MVP에 선정...   \n",
       "32465  32465  한국당은 7일 오전 9시부터 오후 5시까지 진행된 원내대표 및 정책위의장 후보자 등...   \n",
       "32466  32466  법포는 다시 최시형, 서병학, 손병희 직계인 북접과 다시 서장옥, 전봉준, 김개남을...   \n",
       "32467  32467  완도군(군수 신우철)이 국토교통부에서 실시한 '2019 교통문화지수 실태조사'에서 ...   \n",
       "32468  32468  중앙일보, JTBC 회장을 지낸 이후 중앙홀딩스 회장, 재단법인 한반도평화만들기 이...   \n",
       "32469  32469  화순군(군수 구충곤)은 17일 동면의 이장 20여 명이 코로나 19 예방을 위해 버...   \n",
       "\n",
       "                                          subject_entity  \\\n",
       "32455  {'word': '비나신', 'start_idx': 79, 'end_idx': 81...   \n",
       "32456  {'word': '신대철', 'start_idx': 0, 'end_idx': 2, ...   \n",
       "32457  {'word': '정읍시', 'start_idx': 4, 'end_idx': 6, ...   \n",
       "32458  {'word': '스티어 프라이데이 나이트', 'start_idx': 14, 'en...   \n",
       "32459  {'word': '삼성 라이온즈', 'start_idx': 35, 'end_idx'...   \n",
       "32460  {'word': '영광군', 'start_idx': 72, 'end_idx': 74...   \n",
       "32461  {'word': '밀러드 필모어', 'start_idx': 66, 'end_idx'...   \n",
       "32462  {'word': '방승환', 'start_idx': 85, 'end_idx': 87...   \n",
       "32463  {'word': '루이 14세', 'start_idx': 21, 'end_idx':...   \n",
       "32464  {'word': '이창진', 'start_idx': 12, 'end_idx': 14...   \n",
       "32465  {'word': '유기준', 'start_idx': 93, 'end_idx': 95...   \n",
       "32466  {'word': '최시형', 'start_idx': 7, 'end_idx': 9, ...   \n",
       "32467  {'word': '완도군', 'start_idx': 0, 'end_idx': 2, ...   \n",
       "32468  {'word': 'JTBC', 'start_idx': 6, 'end_idx': 9,...   \n",
       "32469  {'word': '화순군', 'start_idx': 0, 'end_idx': 2, ...   \n",
       "\n",
       "                                           object_entity  \\\n",
       "32455  {'word': '베트남', 'start_idx': 73, 'end_idx': 75...   \n",
       "32456  {'word': '1967년 2월 16일', 'start_idx': 9, 'end_...   \n",
       "32457  {'word': '1100대', 'start_idx': 61, 'end_idx': ...   \n",
       "32458  {'word': 'Stir Friday Night', 'start_idx': 28,...   \n",
       "32459  {'word': '2011년', 'start_idx': 22, 'end_idx': ...   \n",
       "32460  {'word': '전라남도', 'start_idx': 4, 'end_idx': 7,...   \n",
       "32461  {'word': '휘그당', 'start_idx': 18, 'end_idx': 20...   \n",
       "32462  {'word': '공격수', 'start_idx': 94, 'end_idx': 96...   \n",
       "32463  {'word': '루이 13세', 'start_idx': 8, 'end_idx': ...   \n",
       "32464  {'word': '외야수', 'start_idx': 8, 'end_idx': 10,...   \n",
       "32465  {'word': '부산 서구·동구', 'start_idx': 100, 'end_id...   \n",
       "32466  {'word': '손병희', 'start_idx': 17, 'end_idx': 19...   \n",
       "32467  {'word': '신우철', 'start_idx': 7, 'end_idx': 9, ...   \n",
       "32468  {'word': '중앙홀딩스', 'start_idx': 21, 'end_idx': ...   \n",
       "32469  {'word': '구충곤', 'start_idx': 7, 'end_idx': 9, ...   \n",
       "\n",
       "                           label     source  \n",
       "32455  org:place_of_headquarters   wikitree  \n",
       "32456          per:date_of_birth  wikipedia  \n",
       "32457                no_relation   wikitree  \n",
       "32458        org:alternate_names  wikipedia  \n",
       "32459                no_relation  wikipedia  \n",
       "32460                no_relation   wikitree  \n",
       "32461            per:employee_of  wikipedia  \n",
       "32462                no_relation  wikipedia  \n",
       "32463           per:other_family  wikipedia  \n",
       "32464                  per:title   wikitree  \n",
       "32465            per:employee_of   wikitree  \n",
       "32466             per:colleagues  wikipedia  \n",
       "32467  org:top_members/employees   wikitree  \n",
       "32468                no_relation  wikipedia  \n",
       "32469  org:top_members/employees   wikitree  "
      ]
     },
     "execution_count": 4,
     "metadata": {},
     "output_type": "execute_result"
    }
   ],
   "source": [
    "train_data.tail(15)"
   ]
  },
  {
   "cell_type": "code",
   "execution_count": 6,
   "metadata": {},
   "outputs": [],
   "source": [
    "train_data['sub'] = train_data['subject_entity'].apply(lambda x : eval(x)['word'])\n",
    "train_data['obj'] = train_data['object_entity'].apply(lambda x : eval(x)['word'])"
   ]
  },
  {
   "cell_type": "code",
   "execution_count": 8,
   "metadata": {},
   "outputs": [
    {
     "data": {
      "text/plain": [
       "1"
      ]
     },
     "execution_count": 8,
     "metadata": {},
     "output_type": "execute_result"
    }
   ],
   "source": [
    "train_data['sentence'][0].count(train_data['sub'][0])"
   ]
  },
  {
   "cell_type": "code",
   "execution_count": 10,
   "metadata": {},
   "outputs": [],
   "source": [
    "train_data['sub_cnt'] = 0\n",
    "train_data['obj_cnt'] = 0"
   ]
  },
  {
   "cell_type": "code",
   "execution_count": 15,
   "metadata": {},
   "outputs": [],
   "source": [
    "sub_cnt = []\n",
    "obj_cnt = []\n",
    "for i in range(len(train_data)):\n",
    "    sub_cnt.append(train_data.iloc[i]['sentence'].count(train_data.iloc[i]['sub']))\n",
    "    obj_cnt.append(train_data.iloc[i]['sentence'].count(train_data.iloc[i]['obj']))\n",
    "    "
   ]
  },
  {
   "cell_type": "code",
   "execution_count": 17,
   "metadata": {},
   "outputs": [],
   "source": [
    "train_data['sub_cnt'] = sub_cnt\n",
    "train_data['obj_cnt'] = obj_cnt"
   ]
  },
  {
   "cell_type": "code",
   "execution_count": 18,
   "metadata": {},
   "outputs": [
    {
     "data": {
      "text/html": [
       "<div>\n",
       "<style scoped>\n",
       "    .dataframe tbody tr th:only-of-type {\n",
       "        vertical-align: middle;\n",
       "    }\n",
       "\n",
       "    .dataframe tbody tr th {\n",
       "        vertical-align: top;\n",
       "    }\n",
       "\n",
       "    .dataframe thead th {\n",
       "        text-align: right;\n",
       "    }\n",
       "</style>\n",
       "<table border=\"1\" class=\"dataframe\">\n",
       "  <thead>\n",
       "    <tr style=\"text-align: right;\">\n",
       "      <th></th>\n",
       "      <th>id</th>\n",
       "      <th>sub_cnt</th>\n",
       "      <th>obj_cnt</th>\n",
       "    </tr>\n",
       "  </thead>\n",
       "  <tbody>\n",
       "    <tr>\n",
       "      <th>count</th>\n",
       "      <td>32470.000000</td>\n",
       "      <td>32470.000000</td>\n",
       "      <td>32470.000000</td>\n",
       "    </tr>\n",
       "    <tr>\n",
       "      <th>mean</th>\n",
       "      <td>16234.500000</td>\n",
       "      <td>1.117431</td>\n",
       "      <td>1.101016</td>\n",
       "    </tr>\n",
       "    <tr>\n",
       "      <th>std</th>\n",
       "      <td>9373.425957</td>\n",
       "      <td>0.404677</td>\n",
       "      <td>0.380411</td>\n",
       "    </tr>\n",
       "    <tr>\n",
       "      <th>min</th>\n",
       "      <td>0.000000</td>\n",
       "      <td>1.000000</td>\n",
       "      <td>1.000000</td>\n",
       "    </tr>\n",
       "    <tr>\n",
       "      <th>25%</th>\n",
       "      <td>8117.250000</td>\n",
       "      <td>1.000000</td>\n",
       "      <td>1.000000</td>\n",
       "    </tr>\n",
       "    <tr>\n",
       "      <th>50%</th>\n",
       "      <td>16234.500000</td>\n",
       "      <td>1.000000</td>\n",
       "      <td>1.000000</td>\n",
       "    </tr>\n",
       "    <tr>\n",
       "      <th>75%</th>\n",
       "      <td>24351.750000</td>\n",
       "      <td>1.000000</td>\n",
       "      <td>1.000000</td>\n",
       "    </tr>\n",
       "    <tr>\n",
       "      <th>max</th>\n",
       "      <td>32469.000000</td>\n",
       "      <td>6.000000</td>\n",
       "      <td>11.000000</td>\n",
       "    </tr>\n",
       "  </tbody>\n",
       "</table>\n",
       "</div>"
      ],
      "text/plain": [
       "                 id       sub_cnt       obj_cnt\n",
       "count  32470.000000  32470.000000  32470.000000\n",
       "mean   16234.500000      1.117431      1.101016\n",
       "std     9373.425957      0.404677      0.380411\n",
       "min        0.000000      1.000000      1.000000\n",
       "25%     8117.250000      1.000000      1.000000\n",
       "50%    16234.500000      1.000000      1.000000\n",
       "75%    24351.750000      1.000000      1.000000\n",
       "max    32469.000000      6.000000     11.000000"
      ]
     },
     "execution_count": 18,
     "metadata": {},
     "output_type": "execute_result"
    }
   ],
   "source": [
    "train_data.describe()"
   ]
  },
  {
   "cell_type": "code",
   "execution_count": 50,
   "metadata": {},
   "outputs": [
    {
     "name": "stdout",
     "output_type": "stream",
     "text": [
      "{'word': '대안신당', 'start_idx': 14, 'end_idx': 17, 'type': 'ORG'}\n",
      "{'word': '민주평화당', 'start_idx': 19, 'end_idx': 23, 'type': 'ORG'}\n"
     ]
    }
   ],
   "source": [
    "print(train_data.iloc[1]['object_entity'])\n",
    "print(train_data.iloc[1]['subject_entity'])"
   ]
  },
  {
   "cell_type": "code",
   "execution_count": 47,
   "metadata": {},
   "outputs": [
    {
     "data": {
      "text/plain": [
       "'14'"
      ]
     },
     "execution_count": 47,
     "metadata": {},
     "output_type": "execute_result"
    }
   ],
   "source": [
    "train_data.iloc[1]['object_entity'][1:-1].split(',')[1].split(':')[1].strip().strip(\"'\")"
   ]
  },
  {
   "cell_type": "code",
   "execution_count": 55,
   "metadata": {},
   "outputs": [],
   "source": [
    "sent = train_data.iloc[1]['sentence'][:14] + '<obj>' + train_data.iloc[1]['sentence'][14:17+1] + '<\\obj>'+train_data.iloc[1]['sentence'][17+1:]"
   ]
  },
  {
   "cell_type": "code",
   "execution_count": 36,
   "metadata": {},
   "outputs": [
    {
     "data": {
      "text/plain": [
       "'비틀즈가 1969년 앨범 《Abbey Road》에 담은 노래다.'"
      ]
     },
     "execution_count": 36,
     "metadata": {},
     "output_type": "execute_result"
    }
   ],
   "source": [
    "train_data.iloc[0]['sentence'][24:]"
   ]
  },
  {
   "cell_type": "code",
   "execution_count": 56,
   "metadata": {},
   "outputs": [
    {
     "data": {
      "text/plain": [
       "'호남이 기반인 바른미래당·<obj>대안신당<\\\\obj>·<sub>민주평화당</sub>이 우여곡절 끝에 합당해 민생당(가칭)으로 재탄생한다.'"
      ]
     },
     "execution_count": 56,
     "metadata": {},
     "output_type": "execute_result"
    }
   ],
   "source": [
    "# object tag 11\n",
    "sent[:19+11] + '<sub>' + sent[19+11:24+11] + '</sub>' + sent[24+11:]"
   ]
  },
  {
   "cell_type": "markdown",
   "metadata": {},
   "source": []
  },
  {
   "cell_type": "code",
   "execution_count": null,
   "metadata": {},
   "outputs": [],
   "source": []
  }
 ],
 "metadata": {
  "kernelspec": {
   "display_name": "Python 3.8.13 ('venv')",
   "language": "python",
   "name": "python3"
  },
  "language_info": {
   "codemirror_mode": {
    "name": "ipython",
    "version": 3
   },
   "file_extension": ".py",
   "mimetype": "text/x-python",
   "name": "python",
   "nbconvert_exporter": "python",
   "pygments_lexer": "ipython3",
   "version": "3.8.13"
  },
  "orig_nbformat": 4,
  "vscode": {
   "interpreter": {
    "hash": "ec5511c57591959bfe383097d4c77eeb724c9a6ac951d9eef9284c9544b2033b"
   }
  }
 },
 "nbformat": 4,
 "nbformat_minor": 2
}
